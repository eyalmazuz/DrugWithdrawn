{
 "cells": [
  {
   "cell_type": "code",
   "execution_count": 1,
   "metadata": {},
   "outputs": [
    {
     "name": "stderr",
     "output_type": "stream",
     "text": [
      "Skipped loading some Tensorflow models, missing a dependency. No module named 'tensorflow'\n",
      "Skipped loading modules with pytorch-geometric dependency, missing a dependency. No module named 'torch_geometric'\n",
      "Skipped loading modules with pytorch-geometric dependency, missing a dependency. cannot import name 'DMPNN' from 'deepchem.models.torch_models' (/home/eyal/.local/lib/python3.10/site-packages/deepchem/models/torch_models/__init__.py)\n",
      "Skipped loading some Jax models, missing a dependency. No module named 'jax'\n"
     ]
    }
   ],
   "source": [
    "import pandas as pd\n",
    "from rdkit import Chem\n",
    "from rdkit.Chem import AllChem\n",
    "from mordred import Calculator, descriptors\n",
    "from rdkit import DataStructs\n",
    "import numpy as np\n",
    "import os\n",
    "\n",
    "from rdkit import RDLogger                                                                                                                                                               \n",
    "RDLogger.DisableLog('rdApp.*')  \n",
    "\n",
    "from xgboost import XGBClassifier\n",
    "\n",
    "from helpers.scorer import *\n",
    "from sklearn.model_selection import RepeatedKFold\n",
    "from sklearn.ensemble import RandomForestClassifier\n",
    "from sklearn.svm import SVC\n",
    "from sklearn.metrics import confusion_matrix, roc_auc_score, auc, roc_curve, accuracy_score, precision_score, recall_score, f1_score, make_scorer, precision_recall_curve, average_precision_score, cohen_kappa_score\n",
    "from sklearn.model_selection import cross_val_score, cross_validate, RepeatedStratifiedKFold, StratifiedKFold\n",
    "from sklearn.pipeline import make_pipeline\n",
    "from sklearn.preprocessing import StandardScaler\n",
    "from sklearn.model_selection import ShuffleSplit, KFold\n",
    "import math\n",
    "\n",
    "import deepchem as dc\n",
    "from rdkit import Chem\n",
    "\n",
    "# from helpers.scorer import *\n",
    "from sklearn import preprocessing\n",
    "import signal, time, random"
   ]
  },
  {
   "cell_type": "markdown",
   "metadata": {},
   "source": [
    "# My Data + Paper Model"
   ]
  },
  {
   "cell_type": "code",
   "execution_count": 2,
   "metadata": {},
   "outputs": [],
   "source": [
    "def count_total_chemotypes(toxprint_df,row):\n",
    "    features = toxprint_df.columns.tolist()\n",
    "    counter = 0\n",
    "    for feature in features[1:]:\n",
    "        counter += row[feature]\n",
    "    return counter"
   ]
  },
  {
   "cell_type": "code",
   "execution_count": 3,
   "metadata": {},
   "outputs": [],
   "source": [
    "feature_set1 = ['nHBAcc', 'nHBDon', 'FilterItLogS', 'SLogP', 'bond:C(=O)N_carboxamide_(NH2)', 'bond:C(=O)N_carboxamide_(NHR)',\n",
    "                'bond:C(=O)N_carboxamide_generic', 'bond:C=O_acyl_hydrazide', \n",
    "                'bond:C=O_carbonyl_ab-unsaturated_aliphatic_(michael_acceptors)', \n",
    "                'bond:CC(=O)C_ketone_alkene_cyclic_(C6)', 'bond:CC(=O)C_ketone_alkene_cyclic_2-en-1-one', \n",
    "                'bond:CN_amine_pri-NH2_aromatic', 'bond:CN_amine_pri-NH2_generic', 'bond:COC_ether_aliphatic',\n",
    "                'bond:COH_alcohol_diol_(1_3-)', 'bond:CX_halide_aromatic-X_halo_phenol_meta',\n",
    "                'bond:NC=O_aminocarbonyl_generic', 'bond:NN_hydrazine_acyclic_(connect_noZ)',\n",
    "                'bond:PC_phosphorus_organo_generic', 'chain:alkaneCyclic_propyl_C3', 'chain:alkyne_ethyne_generic',\n",
    "                'group:aminoAcid_aminoAcid_generic', 'group:aminoAcid_asparagine', 'group:aminoAcid_leucine',\n",
    "                'group:carbohydrate_aldopentose', 'group:carbohydrate_ketohexose',\n",
    "                'group:carbohydrate_pentofuranose_2-deoxy', 'group:carbohydrate_pentofuranose',\n",
    "                'group:ligand_path_5_bidentate_aminopropanal', 'group:nucleobase_adenine', 'group:nucleobase_uracil',\n",
    "                'ring:hetero_[5]_N_pyrazole', 'ring:hetero_[5]_O_dioxolane_(1_3-)', 'ring:hetero_[5]_O_furan',\n",
    "                'ring:hetero_[5]_O_oxolane', 'ring:hetero_[5_6]_N_purine', 'ring:hetero_[6]_N_diazine_(1_3-)_generic',\n",
    "                'ring:hetero_[6]_N_pyrimidine', 'ring:hetero_[6]_N_pyrimidine_2_4-dione',\n",
    "                'ring:hetero_[6]_N_triazine_generic', 'ring:hetero_[6]_Z_1_2_4-', 'ring:hetero_[6]_Z_1_3-',\n",
    "                'ring:hetero_[6]_Z_generic', 'The number of total chemotypes']"
   ]
  },
  {
   "cell_type": "code",
   "execution_count": 4,
   "metadata": {},
   "outputs": [
    {
     "data": {
      "text/plain": [
       "(6521, 730)"
      ]
     },
     "execution_count": 4,
     "metadata": {},
     "output_type": "execute_result"
    }
   ],
   "source": [
    "toxprint_feat = pd.read_csv('./data/toxprint_V2_new_data_vs_smiles.tsv', sep='\\t')\n",
    "toxprint_feat.shape"
   ]
  },
  {
   "cell_type": "code",
   "execution_count": 5,
   "metadata": {},
   "outputs": [],
   "source": [
    "data_path = './split/db_no_agree_no_dups'"
   ]
  },
  {
   "cell_type": "code",
   "execution_count": 6,
   "metadata": {},
   "outputs": [],
   "source": [
    "rdkit_descs = dc.feat.RDKitDescriptors()\n",
    "mordred = dc.feat.MordredDescriptors(ignore_3D=False)\n",
    "pubchem = dc.feat.PubChemFingerprint()\n",
    "mol2vec = dc.feat.Mol2VecFingerprint()\n",
    "ecfp = dc.feat.CircularFingerprint(size=2048, radius=4)"
   ]
  },
  {
   "cell_type": "code",
   "execution_count": 7,
   "metadata": {},
   "outputs": [],
   "source": [
    "def calc_descriptors(smiles):\n",
    "    calc = Calculator([descriptors.SLogP,descriptors.LogS, descriptors.HydrogenBond], ignore_3D=False)\n",
    "    mordred_desc = [Chem.MolFromSmiles(smi) for smi in smiles]\n",
    "    # as pandas\n",
    "    mordred_df = calc.pandas(mordred_desc)\n",
    "    return mordred_df"
   ]
  },
  {
   "cell_type": "code",
   "execution_count": 8,
   "metadata": {},
   "outputs": [],
   "source": [
    "def create_svm_data(path):\n",
    "    df = pd.read_csv(path, usecols=['smiles', 'withdrawn_class'])\n",
    "    df = pd.merge(df, toxprint_feat, how='inner', left_on='smiles', right_on='M_SMILES')\n",
    "    \n",
    "    mordred_df = calc_descriptors(df['smiles'].tolist())\n",
    "    df = pd.concat([df, mordred_df[['nHBAcc', 'nHBDon', 'FilterItLogS', 'SLogP']]], axis=1)\n",
    "    \n",
    "    df['The number of total chemotypes'] = df.apply(lambda x: count_total_chemotypes(toxprint_feat, x), axis=1)\n",
    "\n",
    "    y = df['withdrawn_class']\n",
    "    x = df.drop(['smiles', 'withdrawn_class', 'M_SMILES'], axis=1)\n",
    "    \n",
    "    return x, y"
   ]
  },
  {
   "cell_type": "code",
   "execution_count": 13,
   "metadata": {},
   "outputs": [],
   "source": [
    "def create_mol2vec_data(path):\n",
    "    df = pd.read_csv(path, usecols=['smiles', 'withdrawn_class'])\n",
    "\n",
    "    features = mol2vec.featurize(df.smiles)\n",
    "    columns = [f'{str(mol2vec)}_{i}' for i in range(len(features[0]))]\n",
    "    df = pd.concat([df, pd.DataFrame(features, columns=columns)], axis=1)\n",
    "        \n",
    "    y = df['withdrawn_class']\n",
    "    x = df.drop(['smiles', 'withdrawn_class'], axis=1)\n",
    "    \n",
    "    return x, y"
   ]
  },
  {
   "cell_type": "code",
   "execution_count": 10,
   "metadata": {},
   "outputs": [],
   "source": [
    "def create_all_data(path):\n",
    "    df = pd.read_csv(path, usecols=['smiles', 'withdrawn_class'])\n",
    "    df = pd.merge(df, toxprint_feat, how='inner', left_on='smiles', right_on='M_SMILES')\n",
    "    \n",
    "    mordred_df = calc_descriptors(df['smiles'].tolist())\n",
    "    df = pd.concat([df, mordred_df[['nHBAcc', 'nHBDon', 'FilterItLogS', 'SLogP']]], axis=1)\n",
    "    \n",
    "    df['The number of total chemotypes'] = df.apply(lambda x: count_total_chemotypes(toxprint_feat, x), axis=1)\n",
    "\n",
    "    for feat in [rdkit_descs, mol2vec, ecfp]:\n",
    "        print(f'extracting {feat}')\n",
    "        features = feat.featurize(df.smiles)\n",
    "        columns = [f'{str(feat)}_{i}' for i in range(len(features[0]))]\n",
    "        df = pd.concat([df, pd.DataFrame(features, columns=columns)], axis=1)\n",
    "\n",
    "        \n",
    "    y = df['withdrawn_class']\n",
    "    x = df.drop(['smiles', 'withdrawn_class', 'M_SMILES'], axis=1)\n",
    "    \n",
    "    return x, y"
   ]
  },
  {
   "cell_type": "markdown",
   "metadata": {},
   "source": [
    "# TOX FEATURES"
   ]
  },
  {
   "cell_type": "code",
   "execution_count": 11,
   "metadata": {
    "scrolled": true
   },
   "outputs": [
    {
     "name": "stderr",
     "output_type": "stream",
     "text": [
      "100%|█████████████████████████████████████████████████████████████████████████████████████████████████████████████████████████████████████████████████████████████████████████████████████████████████| 3779/3779 [00:03<00:00, 1091.21it/s]\n",
      "100%|█████████████████████████████████████████████████████████████████████████████████████████████████████████████████████████████████████████████████████████████████████████████████████████████████| 2565/2565 [00:02<00:00, 1081.45it/s]\n",
      "/home/eyal/.local/lib/python3.10/site-packages/sklearn/base.py:493: FutureWarning: The feature names should match those that were passed during fit. Starting version 1.2, an error will be raised.\n",
      "Feature names unseen at fit time:\n",
      "- bond:CX_halide_alkyl-X_bicyclo[2_2_1]heptane\n",
      "- bond:CX_halide_alkyl-X_bicyclo[2_2_1]heptene\n",
      "- bond:N=C=O_isocyanate_[O_S]\n",
      "- bond:N=[N+]=[N-]_azide_aromatic\n",
      "- bond:N=[N+]=[N-]_azide_generic\n",
      "- ...\n",
      "Feature names seen at fit time, yet now missing:\n",
      "- bond:CX_halide_alkyl-X_bicyclo_2_2_1_heptane\n",
      "- bond:CX_halide_alkyl-X_bicyclo_2_2_1_heptene\n",
      "- bond:N=C=O_isocyanate__O_S_\n",
      "- bond:N=_N+_=_N-__azide_aromatic\n",
      "- bond:N=_N+_=_N-__azide_generic\n",
      "- ...\n",
      "\n",
      "  warnings.warn(message, FutureWarning)\n"
     ]
    },
    {
     "name": "stdout",
     "output_type": "stream",
     "text": [
      "split='db_no_agree_no_dups' dataset='ChEMBL' clf=SVC(probability=True) AUC=0.5571  AUC-PR=0.2733\n",
      "split='db_no_agree_no_dups' dataset='ChEMBL' clf=XGBClassifier(base_score=0.5, booster='gbtree', callbacks=None,\n",
      "              colsample_bylevel=1, colsample_bynode=1, colsample_bytree=1,\n",
      "              early_stopping_rounds=None, enable_categorical=False,\n",
      "              eval_metric=None, gamma=0, gpu_id=-1, grow_policy='depthwise',\n",
      "              importance_type=None, interaction_constraints='',\n",
      "              learning_rate=0.300000012, max_bin=256, max_cat_to_onehot=4,\n",
      "              max_delta_step=0, max_depth=6, max_leaves=0, min_child_weight=1,\n",
      "              missing=nan, monotone_constraints='()', n_estimators=100,\n",
      "              n_jobs=0, num_parallel_tree=1, predictor='auto', random_state=0,\n",
      "              reg_alpha=0, reg_lambda=1, ...) AUC=0.5542  AUC-PR=0.2671\n"
     ]
    },
    {
     "name": "stderr",
     "output_type": "stream",
     "text": [
      "100%|█████████████████████████████████████████████████████████████████████████████████████████████████████████████████████████████████████████████████████████████████████████████████████████████████| 3998/3998 [00:03<00:00, 1109.98it/s]\n",
      "100%|█████████████████████████████████████████████████████████████████████████████████████████████████████████████████████████████████████████████████████████████████████████████████████████████████| 2431/2431 [00:02<00:00, 1125.35it/s]\n",
      "/home/eyal/.local/lib/python3.10/site-packages/sklearn/base.py:493: FutureWarning: The feature names should match those that were passed during fit. Starting version 1.2, an error will be raised.\n",
      "Feature names unseen at fit time:\n",
      "- bond:CX_halide_alkyl-X_bicyclo[2_2_1]heptane\n",
      "- bond:CX_halide_alkyl-X_bicyclo[2_2_1]heptene\n",
      "- bond:N=C=O_isocyanate_[O_S]\n",
      "- bond:N=[N+]=[N-]_azide_aromatic\n",
      "- bond:N=[N+]=[N-]_azide_generic\n",
      "- ...\n",
      "Feature names seen at fit time, yet now missing:\n",
      "- bond:CX_halide_alkyl-X_bicyclo_2_2_1_heptane\n",
      "- bond:CX_halide_alkyl-X_bicyclo_2_2_1_heptene\n",
      "- bond:N=C=O_isocyanate__O_S_\n",
      "- bond:N=_N+_=_N-__azide_aromatic\n",
      "- bond:N=_N+_=_N-__azide_generic\n",
      "- ...\n",
      "\n",
      "  warnings.warn(message, FutureWarning)\n"
     ]
    },
    {
     "name": "stdout",
     "output_type": "stream",
     "text": [
      "split='db_no_agree_no_dups' dataset='DrugBank' clf=SVC(probability=True) AUC=0.6035  AUC-PR=0.123\n",
      "split='db_no_agree_no_dups' dataset='DrugBank' clf=XGBClassifier(base_score=0.5, booster='gbtree', callbacks=None,\n",
      "              colsample_bylevel=1, colsample_bynode=1, colsample_bytree=1,\n",
      "              early_stopping_rounds=None, enable_categorical=False,\n",
      "              eval_metric=None, gamma=0, gpu_id=-1, grow_policy='depthwise',\n",
      "              importance_type=None, interaction_constraints='',\n",
      "              learning_rate=0.300000012, max_bin=256, max_cat_to_onehot=4,\n",
      "              max_delta_step=0, max_depth=6, max_leaves=0, min_child_weight=1,\n",
      "              missing=nan, monotone_constraints='()', n_estimators=100,\n",
      "              n_jobs=0, num_parallel_tree=1, predictor='auto', random_state=0,\n",
      "              reg_alpha=0, reg_lambda=1, ...) AUC=0.5606  AUC-PR=0.1031\n"
     ]
    },
    {
     "name": "stderr",
     "output_type": "stream",
     "text": [
      "100%|█████████████████████████████████████████████████████████████████████████████████████████████████████████████████████████████████████████████████████████████████████████████████████████████████| 2354/2354 [00:02<00:00, 1017.25it/s]\n",
      "100%|█████████████████████████████████████████████████████████████████████████████████████████████████████████████████████████████████████████████████████████████████████████████████████████████████| 4013/4013 [00:03<00:00, 1151.59it/s]\n",
      "/home/eyal/.local/lib/python3.10/site-packages/sklearn/base.py:493: FutureWarning: The feature names should match those that were passed during fit. Starting version 1.2, an error will be raised.\n",
      "Feature names unseen at fit time:\n",
      "- bond:CX_halide_alkyl-X_bicyclo[2_2_1]heptane\n",
      "- bond:CX_halide_alkyl-X_bicyclo[2_2_1]heptene\n",
      "- bond:N=C=O_isocyanate_[O_S]\n",
      "- bond:N=[N+]=[N-]_azide_aromatic\n",
      "- bond:N=[N+]=[N-]_azide_generic\n",
      "- ...\n",
      "Feature names seen at fit time, yet now missing:\n",
      "- bond:CX_halide_alkyl-X_bicyclo_2_2_1_heptane\n",
      "- bond:CX_halide_alkyl-X_bicyclo_2_2_1_heptene\n",
      "- bond:N=C=O_isocyanate__O_S_\n",
      "- bond:N=_N+_=_N-__azide_aromatic\n",
      "- bond:N=_N+_=_N-__azide_generic\n",
      "- ...\n",
      "\n",
      "  warnings.warn(message, FutureWarning)\n"
     ]
    },
    {
     "name": "stdout",
     "output_type": "stream",
     "text": [
      "split='db_no_agree_no_dups' dataset='NCATS' clf=SVC(probability=True) AUC=0.5174  AUC-PR=0.2825\n",
      "split='db_no_agree_no_dups' dataset='NCATS' clf=XGBClassifier(base_score=0.5, booster='gbtree', callbacks=None,\n",
      "              colsample_bylevel=1, colsample_bynode=1, colsample_bytree=1,\n",
      "              early_stopping_rounds=None, enable_categorical=False,\n",
      "              eval_metric=None, gamma=0, gpu_id=-1, grow_policy='depthwise',\n",
      "              importance_type=None, interaction_constraints='',\n",
      "              learning_rate=0.300000012, max_bin=256, max_cat_to_onehot=4,\n",
      "              max_delta_step=0, max_depth=6, max_leaves=0, min_child_weight=1,\n",
      "              missing=nan, monotone_constraints='()', n_estimators=100,\n",
      "              n_jobs=0, num_parallel_tree=1, predictor='auto', random_state=0,\n",
      "              reg_alpha=0, reg_lambda=1, ...) AUC=0.4958  AUC-PR=0.2648\n"
     ]
    },
    {
     "name": "stderr",
     "output_type": "stream",
     "text": [
      "100%|█████████████████████████████████████████████████████████████████████████████████████████████████████████████████████████████████████████████████████████████████████████████████████████████████| 3779/3779 [00:03<00:00, 1117.81it/s]\n",
      "100%|█████████████████████████████████████████████████████████████████████████████████████████████████████████████████████████████████████████████████████████████████████████████████████████████████| 2171/2171 [00:02<00:00, 1062.92it/s]\n",
      "/home/eyal/.local/lib/python3.10/site-packages/sklearn/base.py:493: FutureWarning: The feature names should match those that were passed during fit. Starting version 1.2, an error will be raised.\n",
      "Feature names unseen at fit time:\n",
      "- bond:CX_halide_alkyl-X_bicyclo[2_2_1]heptane\n",
      "- bond:CX_halide_alkyl-X_bicyclo[2_2_1]heptene\n",
      "- bond:N=C=O_isocyanate_[O_S]\n",
      "- bond:N=[N+]=[N-]_azide_aromatic\n",
      "- bond:N=[N+]=[N-]_azide_generic\n",
      "- ...\n",
      "Feature names seen at fit time, yet now missing:\n",
      "- bond:CX_halide_alkyl-X_bicyclo_2_2_1_heptane\n",
      "- bond:CX_halide_alkyl-X_bicyclo_2_2_1_heptene\n",
      "- bond:N=C=O_isocyanate__O_S_\n",
      "- bond:N=_N+_=_N-__azide_aromatic\n",
      "- bond:N=_N+_=_N-__azide_generic\n",
      "- ...\n",
      "\n",
      "  warnings.warn(message, FutureWarning)\n"
     ]
    },
    {
     "name": "stdout",
     "output_type": "stream",
     "text": [
      "split='db_agree_no_dups' dataset='ChEMBL' clf=SVC(probability=True) AUC=0.6033  AUC-PR=0.228\n",
      "split='db_agree_no_dups' dataset='ChEMBL' clf=XGBClassifier(base_score=0.5, booster='gbtree', callbacks=None,\n",
      "              colsample_bylevel=1, colsample_bynode=1, colsample_bytree=1,\n",
      "              early_stopping_rounds=None, enable_categorical=False,\n",
      "              eval_metric=None, gamma=0, gpu_id=-1, grow_policy='depthwise',\n",
      "              importance_type=None, interaction_constraints='',\n",
      "              learning_rate=0.300000012, max_bin=256, max_cat_to_onehot=4,\n",
      "              max_delta_step=0, max_depth=6, max_leaves=0, min_child_weight=1,\n",
      "              missing=nan, monotone_constraints='()', n_estimators=100,\n",
      "              n_jobs=0, num_parallel_tree=1, predictor='auto', random_state=0,\n",
      "              reg_alpha=0, reg_lambda=1, ...) AUC=0.6362  AUC-PR=0.2642\n"
     ]
    },
    {
     "name": "stderr",
     "output_type": "stream",
     "text": [
      "100%|█████████████████████████████████████████████████████████████████████████████████████████████████████████████████████████████████████████████████████████████████████████████████████████████████| 3998/3998 [00:03<00:00, 1124.26it/s]\n",
      "100%|█████████████████████████████████████████████████████████████████████████████████████████████████████████████████████████████████████████████████████████████████████████████████████████████████| 1982/1982 [00:01<00:00, 1045.45it/s]\n",
      "/home/eyal/.local/lib/python3.10/site-packages/sklearn/base.py:493: FutureWarning: The feature names should match those that were passed during fit. Starting version 1.2, an error will be raised.\n",
      "Feature names unseen at fit time:\n",
      "- bond:CX_halide_alkyl-X_bicyclo[2_2_1]heptane\n",
      "- bond:CX_halide_alkyl-X_bicyclo[2_2_1]heptene\n",
      "- bond:N=C=O_isocyanate_[O_S]\n",
      "- bond:N=[N+]=[N-]_azide_aromatic\n",
      "- bond:N=[N+]=[N-]_azide_generic\n",
      "- ...\n",
      "Feature names seen at fit time, yet now missing:\n",
      "- bond:CX_halide_alkyl-X_bicyclo_2_2_1_heptane\n",
      "- bond:CX_halide_alkyl-X_bicyclo_2_2_1_heptene\n",
      "- bond:N=C=O_isocyanate__O_S_\n",
      "- bond:N=_N+_=_N-__azide_aromatic\n",
      "- bond:N=_N+_=_N-__azide_generic\n",
      "- ...\n",
      "\n",
      "  warnings.warn(message, FutureWarning)\n"
     ]
    },
    {
     "name": "stdout",
     "output_type": "stream",
     "text": [
      "split='db_agree_no_dups' dataset='DrugBank' clf=SVC(probability=True) AUC=0.6499  AUC-PR=0.1466\n",
      "split='db_agree_no_dups' dataset='DrugBank' clf=XGBClassifier(base_score=0.5, booster='gbtree', callbacks=None,\n",
      "              colsample_bylevel=1, colsample_bynode=1, colsample_bytree=1,\n",
      "              early_stopping_rounds=None, enable_categorical=False,\n",
      "              eval_metric=None, gamma=0, gpu_id=-1, grow_policy='depthwise',\n",
      "              importance_type=None, interaction_constraints='',\n",
      "              learning_rate=0.300000012, max_bin=256, max_cat_to_onehot=4,\n",
      "              max_delta_step=0, max_depth=6, max_leaves=0, min_child_weight=1,\n",
      "              missing=nan, monotone_constraints='()', n_estimators=100,\n",
      "              n_jobs=0, num_parallel_tree=1, predictor='auto', random_state=0,\n",
      "              reg_alpha=0, reg_lambda=1, ...) AUC=0.674  AUC-PR=0.1473\n"
     ]
    },
    {
     "name": "stderr",
     "output_type": "stream",
     "text": [
      "100%|██████████████████████████████████████████████████████████████████████████████████████████████████████████████████████████████████████████████████████████████████████████████████████████████████| 2354/2354 [00:02<00:00, 960.00it/s]\n",
      "100%|█████████████████████████████████████████████████████████████████████████████████████████████████████████████████████████████████████████████████████████████████████████████████████████████████| 3601/3601 [00:03<00:00, 1090.31it/s]\n",
      "/home/eyal/.local/lib/python3.10/site-packages/sklearn/base.py:493: FutureWarning: The feature names should match those that were passed during fit. Starting version 1.2, an error will be raised.\n",
      "Feature names unseen at fit time:\n",
      "- bond:CX_halide_alkyl-X_bicyclo[2_2_1]heptane\n",
      "- bond:CX_halide_alkyl-X_bicyclo[2_2_1]heptene\n",
      "- bond:N=C=O_isocyanate_[O_S]\n",
      "- bond:N=[N+]=[N-]_azide_aromatic\n",
      "- bond:N=[N+]=[N-]_azide_generic\n",
      "- ...\n",
      "Feature names seen at fit time, yet now missing:\n",
      "- bond:CX_halide_alkyl-X_bicyclo_2_2_1_heptane\n",
      "- bond:CX_halide_alkyl-X_bicyclo_2_2_1_heptene\n",
      "- bond:N=C=O_isocyanate__O_S_\n",
      "- bond:N=_N+_=_N-__azide_aromatic\n",
      "- bond:N=_N+_=_N-__azide_generic\n",
      "- ...\n",
      "\n",
      "  warnings.warn(message, FutureWarning)\n"
     ]
    },
    {
     "name": "stdout",
     "output_type": "stream",
     "text": [
      "split='db_agree_no_dups' dataset='NCATS' clf=SVC(probability=True) AUC=0.5479  AUC-PR=0.2594\n",
      "split='db_agree_no_dups' dataset='NCATS' clf=XGBClassifier(base_score=0.5, booster='gbtree', callbacks=None,\n",
      "              colsample_bylevel=1, colsample_bynode=1, colsample_bytree=1,\n",
      "              early_stopping_rounds=None, enable_categorical=False,\n",
      "              eval_metric=None, gamma=0, gpu_id=-1, grow_policy='depthwise',\n",
      "              importance_type=None, interaction_constraints='',\n",
      "              learning_rate=0.300000012, max_bin=256, max_cat_to_onehot=4,\n",
      "              max_delta_step=0, max_depth=6, max_leaves=0, min_child_weight=1,\n",
      "              missing=nan, monotone_constraints='()', n_estimators=100,\n",
      "              n_jobs=0, num_parallel_tree=1, predictor='auto', random_state=0,\n",
      "              reg_alpha=0, reg_lambda=1, ...) AUC=0.5466  AUC-PR=0.263\n"
     ]
    }
   ],
   "source": [
    "for split in ['db_no_agree_no_dups', 'db_agree_no_dups']:\n",
    "    for dataset in ['ChEMBL', 'DrugBank', 'NCATS']:\n",
    "        x_train, y_train = create_svm_data(f'./split/{split}/{dataset}/train.csv')\n",
    "        x_train.columns = [s.replace('[', '_').replace(']', '_') for s in x_train.columns]\n",
    "\n",
    "        x_test, y_test = create_svm_data(f'./split/{split}/{dataset}/test.csv')\n",
    "        x_test.columns = [s.replace(',', '_') for s in x_test.columns]\n",
    "        \n",
    "        for clf in [SVC(probability=True), XGBClassifier()]:\n",
    "            clf.fit(x_train, y_train)\n",
    "\n",
    "            preds = clf.predict_proba(x_test)[:, 1]\n",
    "\n",
    "            auc = round(roc_auc_score(y_test, preds), 4)\n",
    "            auc_pr = round(average_precision_score(y_test, preds), 4)\n",
    "\n",
    "            print(f'{split=} {dataset=} {clf=} AUC={auc}  AUC-PR={auc_pr}')"
   ]
  },
  {
   "cell_type": "markdown",
   "metadata": {},
   "source": [
    "# MOL2VEC Features"
   ]
  },
  {
   "cell_type": "code",
   "execution_count": 14,
   "metadata": {},
   "outputs": [
    {
     "name": "stdout",
     "output_type": "stream",
     "text": [
      "split='db_no_agree_no_dups' dataset='ChEMBL' clf=SVC(probability=True) AUC=0.5952  AUC-PR=0.3031\n",
      "split='db_no_agree_no_dups' dataset='ChEMBL' clf=XGBClassifier(base_score=0.5, booster='gbtree', callbacks=None,\n",
      "              colsample_bylevel=1, colsample_bynode=1, colsample_bytree=1,\n",
      "              early_stopping_rounds=None, enable_categorical=False,\n",
      "              eval_metric=None, gamma=0, gpu_id=-1, grow_policy='depthwise',\n",
      "              importance_type=None, interaction_constraints='',\n",
      "              learning_rate=0.300000012, max_bin=256, max_cat_to_onehot=4,\n",
      "              max_delta_step=0, max_depth=6, max_leaves=0, min_child_weight=1,\n",
      "              missing=nan, monotone_constraints='()', n_estimators=100,\n",
      "              n_jobs=0, num_parallel_tree=1, predictor='auto', random_state=0,\n",
      "              reg_alpha=0, reg_lambda=1, ...) AUC=0.4679  AUC-PR=0.2179\n",
      "split='db_no_agree_no_dups' dataset='DrugBank' clf=SVC(probability=True) AUC=0.6013  AUC-PR=0.1132\n",
      "split='db_no_agree_no_dups' dataset='DrugBank' clf=XGBClassifier(base_score=0.5, booster='gbtree', callbacks=None,\n",
      "              colsample_bylevel=1, colsample_bynode=1, colsample_bytree=1,\n",
      "              early_stopping_rounds=None, enable_categorical=False,\n",
      "              eval_metric=None, gamma=0, gpu_id=-1, grow_policy='depthwise',\n",
      "              importance_type=None, interaction_constraints='',\n",
      "              learning_rate=0.300000012, max_bin=256, max_cat_to_onehot=4,\n",
      "              max_delta_step=0, max_depth=6, max_leaves=0, min_child_weight=1,\n",
      "              missing=nan, monotone_constraints='()', n_estimators=100,\n",
      "              n_jobs=0, num_parallel_tree=1, predictor='auto', random_state=0,\n",
      "              reg_alpha=0, reg_lambda=1, ...) AUC=0.5132  AUC-PR=0.0893\n",
      "split='db_no_agree_no_dups' dataset='NCATS' clf=SVC(probability=True) AUC=0.5572  AUC-PR=0.3202\n",
      "split='db_no_agree_no_dups' dataset='NCATS' clf=XGBClassifier(base_score=0.5, booster='gbtree', callbacks=None,\n",
      "              colsample_bylevel=1, colsample_bynode=1, colsample_bytree=1,\n",
      "              early_stopping_rounds=None, enable_categorical=False,\n",
      "              eval_metric=None, gamma=0, gpu_id=-1, grow_policy='depthwise',\n",
      "              importance_type=None, interaction_constraints='',\n",
      "              learning_rate=0.300000012, max_bin=256, max_cat_to_onehot=4,\n",
      "              max_delta_step=0, max_depth=6, max_leaves=0, min_child_weight=1,\n",
      "              missing=nan, monotone_constraints='()', n_estimators=100,\n",
      "              n_jobs=0, num_parallel_tree=1, predictor='auto', random_state=0,\n",
      "              reg_alpha=0, reg_lambda=1, ...) AUC=0.4833  AUC-PR=0.2579\n",
      "split='db_agree_no_dups' dataset='ChEMBL' clf=SVC(probability=True) AUC=0.6371  AUC-PR=0.2676\n",
      "split='db_agree_no_dups' dataset='ChEMBL' clf=XGBClassifier(base_score=0.5, booster='gbtree', callbacks=None,\n",
      "              colsample_bylevel=1, colsample_bynode=1, colsample_bytree=1,\n",
      "              early_stopping_rounds=None, enable_categorical=False,\n",
      "              eval_metric=None, gamma=0, gpu_id=-1, grow_policy='depthwise',\n",
      "              importance_type=None, interaction_constraints='',\n",
      "              learning_rate=0.300000012, max_bin=256, max_cat_to_onehot=4,\n",
      "              max_delta_step=0, max_depth=6, max_leaves=0, min_child_weight=1,\n",
      "              missing=nan, monotone_constraints='()', n_estimators=100,\n",
      "              n_jobs=0, num_parallel_tree=1, predictor='auto', random_state=0,\n",
      "              reg_alpha=0, reg_lambda=1, ...) AUC=0.6348  AUC-PR=0.2433\n",
      "split='db_agree_no_dups' dataset='DrugBank' clf=SVC(probability=True) AUC=0.6414  AUC-PR=0.1292\n",
      "split='db_agree_no_dups' dataset='DrugBank' clf=XGBClassifier(base_score=0.5, booster='gbtree', callbacks=None,\n",
      "              colsample_bylevel=1, colsample_bynode=1, colsample_bytree=1,\n",
      "              early_stopping_rounds=None, enable_categorical=False,\n",
      "              eval_metric=None, gamma=0, gpu_id=-1, grow_policy='depthwise',\n",
      "              importance_type=None, interaction_constraints='',\n",
      "              learning_rate=0.300000012, max_bin=256, max_cat_to_onehot=4,\n",
      "              max_delta_step=0, max_depth=6, max_leaves=0, min_child_weight=1,\n",
      "              missing=nan, monotone_constraints='()', n_estimators=100,\n",
      "              n_jobs=0, num_parallel_tree=1, predictor='auto', random_state=0,\n",
      "              reg_alpha=0, reg_lambda=1, ...) AUC=0.7046  AUC-PR=0.1824\n",
      "split='db_agree_no_dups' dataset='NCATS' clf=SVC(probability=True) AUC=0.5805  AUC-PR=0.2885\n",
      "split='db_agree_no_dups' dataset='NCATS' clf=XGBClassifier(base_score=0.5, booster='gbtree', callbacks=None,\n",
      "              colsample_bylevel=1, colsample_bynode=1, colsample_bytree=1,\n",
      "              early_stopping_rounds=None, enable_categorical=False,\n",
      "              eval_metric=None, gamma=0, gpu_id=-1, grow_policy='depthwise',\n",
      "              importance_type=None, interaction_constraints='',\n",
      "              learning_rate=0.300000012, max_bin=256, max_cat_to_onehot=4,\n",
      "              max_delta_step=0, max_depth=6, max_leaves=0, min_child_weight=1,\n",
      "              missing=nan, monotone_constraints='()', n_estimators=100,\n",
      "              n_jobs=0, num_parallel_tree=1, predictor='auto', random_state=0,\n",
      "              reg_alpha=0, reg_lambda=1, ...) AUC=0.5703  AUC-PR=0.2791\n"
     ]
    }
   ],
   "source": [
    "for split in ['db_no_agree_no_dups', 'db_agree_no_dups']:\n",
    "    for dataset in ['ChEMBL', 'DrugBank', 'NCATS']:\n",
    "        x_train, y_train = create_mol2vec_data(f'./split/{split}/{dataset}/train.csv')\n",
    "        x_train.columns = [s.replace('[', '_').replace(']', '_') for s in x_train.columns]\n",
    "\n",
    "        x_test, y_test = create_mol2vec_data(f'./split/{split}/{dataset}/test.csv')\n",
    "        x_test.columns = [s.replace(',', '_') for s in x_test.columns]\n",
    "        \n",
    "        for clf in [SVC(probability=True), XGBClassifier()]:\n",
    "            clf.fit(x_train, y_train)\n",
    "\n",
    "            preds = clf.predict_proba(x_test)[:, 1]\n",
    "\n",
    "            auc = round(roc_auc_score(y_test, preds), 4)\n",
    "            auc_pr = round(average_precision_score(y_test, preds), 4)\n",
    "\n",
    "            print(f'{split=} {dataset=} {clf=} AUC={auc}  AUC-PR={auc_pr}')"
   ]
  },
  {
   "cell_type": "markdown",
   "metadata": {},
   "source": [
    "# All Features"
   ]
  },
  {
   "cell_type": "code",
   "execution_count": null,
   "metadata": {},
   "outputs": [
    {
     "name": "stderr",
     "output_type": "stream",
     "text": [
      "100%|█████████████████████████████████████████████████████████████████████████████████████████████████████████████████████████████████████████████████████████████████████████████████████████████████| 3779/3779 [00:03<00:00, 1088.79it/s]\n"
     ]
    },
    {
     "name": "stdout",
     "output_type": "stream",
     "text": [
      "extracting RDKitDescriptors\n",
      "extracting Mol2VecFingerprint\n",
      "extracting CircularFingerprint_radius_4\n"
     ]
    },
    {
     "name": "stderr",
     "output_type": "stream",
     "text": [
      "100%|█████████████████████████████████████████████████████████████████████████████████████████████████████████████████████████████████████████████████████████████████████████████████████████████████| 2565/2565 [00:02<00:00, 1094.29it/s]\n"
     ]
    },
    {
     "name": "stdout",
     "output_type": "stream",
     "text": [
      "extracting RDKitDescriptors\n",
      "extracting Mol2VecFingerprint\n",
      "extracting CircularFingerprint_radius_4\n",
      "split='db_no_agree_no_dups' dataset='ChEMBL' clf=XGBClassifier(base_score=0.5, booster='gbtree', callbacks=None,\n",
      "              colsample_bylevel=1, colsample_bynode=1, colsample_bytree=1,\n",
      "              early_stopping_rounds=None, enable_categorical=False,\n",
      "              eval_metric=None, gamma=0, gpu_id=-1, grow_policy='depthwise',\n",
      "              importance_type=None, interaction_constraints='',\n",
      "              learning_rate=0.300000012, max_bin=256, max_cat_to_onehot=4,\n",
      "              max_delta_step=0, max_depth=6, max_leaves=0, min_child_weight=1,\n",
      "              missing=nan, monotone_constraints='()', n_estimators=100,\n",
      "              n_jobs=0, num_parallel_tree=1, predictor='auto', random_state=0,\n",
      "              reg_alpha=0, reg_lambda=1, ...) AUC=0.4732  AUC-PR=0.225\n"
     ]
    },
    {
     "name": "stderr",
     "output_type": "stream",
     "text": [
      "100%|█████████████████████████████████████████████████████████████████████████████████████████████████████████████████████████████████████████████████████████████████████████████████████████████████| 3998/3998 [00:03<00:00, 1062.93it/s]\n"
     ]
    },
    {
     "name": "stdout",
     "output_type": "stream",
     "text": [
      "extracting RDKitDescriptors\n",
      "extracting Mol2VecFingerprint\n",
      "extracting CircularFingerprint_radius_4\n"
     ]
    },
    {
     "name": "stderr",
     "output_type": "stream",
     "text": [
      "100%|█████████████████████████████████████████████████████████████████████████████████████████████████████████████████████████████████████████████████████████████████████████████████████████████████| 2431/2431 [00:02<00:00, 1088.01it/s]\n"
     ]
    },
    {
     "name": "stdout",
     "output_type": "stream",
     "text": [
      "extracting RDKitDescriptors\n",
      "extracting Mol2VecFingerprint\n",
      "extracting CircularFingerprint_radius_4\n",
      "split='db_no_agree_no_dups' dataset='DrugBank' clf=XGBClassifier(base_score=0.5, booster='gbtree', callbacks=None,\n",
      "              colsample_bylevel=1, colsample_bynode=1, colsample_bytree=1,\n",
      "              early_stopping_rounds=None, enable_categorical=False,\n",
      "              eval_metric=None, gamma=0, gpu_id=-1, grow_policy='depthwise',\n",
      "              importance_type=None, interaction_constraints='',\n",
      "              learning_rate=0.300000012, max_bin=256, max_cat_to_onehot=4,\n",
      "              max_delta_step=0, max_depth=6, max_leaves=0, min_child_weight=1,\n",
      "              missing=nan, monotone_constraints='()', n_estimators=100,\n",
      "              n_jobs=0, num_parallel_tree=1, predictor='auto', random_state=0,\n",
      "              reg_alpha=0, reg_lambda=1, ...) AUC=0.5044  AUC-PR=0.0885\n"
     ]
    },
    {
     "name": "stderr",
     "output_type": "stream",
     "text": [
      "100%|█████████████████████████████████████████████████████████████████████████████████████████████████████████████████████████████████████████████████████████████████████████████████████████████████| 2354/2354 [00:02<00:00, 1043.52it/s]\n"
     ]
    },
    {
     "name": "stdout",
     "output_type": "stream",
     "text": [
      "extracting RDKitDescriptors\n",
      "extracting Mol2VecFingerprint\n",
      "extracting CircularFingerprint_radius_4\n"
     ]
    },
    {
     "name": "stderr",
     "output_type": "stream",
     "text": [
      "100%|█████████████████████████████████████████████████████████████████████████████████████████████████████████████████████████████████████████████████████████████████████████████████████████████████| 4013/4013 [00:03<00:00, 1089.19it/s]\n"
     ]
    },
    {
     "name": "stdout",
     "output_type": "stream",
     "text": [
      "extracting RDKitDescriptors\n",
      "extracting Mol2VecFingerprint\n",
      "extracting CircularFingerprint_radius_4\n",
      "split='db_no_agree_no_dups' dataset='NCATS' clf=XGBClassifier(base_score=0.5, booster='gbtree', callbacks=None,\n",
      "              colsample_bylevel=1, colsample_bynode=1, colsample_bytree=1,\n",
      "              early_stopping_rounds=None, enable_categorical=False,\n",
      "              eval_metric=None, gamma=0, gpu_id=-1, grow_policy='depthwise',\n",
      "              importance_type=None, interaction_constraints='',\n",
      "              learning_rate=0.300000012, max_bin=256, max_cat_to_onehot=4,\n",
      "              max_delta_step=0, max_depth=6, max_leaves=0, min_child_weight=1,\n",
      "              missing=nan, monotone_constraints='()', n_estimators=100,\n",
      "              n_jobs=0, num_parallel_tree=1, predictor='auto', random_state=0,\n",
      "              reg_alpha=0, reg_lambda=1, ...) AUC=0.4869  AUC-PR=0.2581\n"
     ]
    },
    {
     "name": "stderr",
     "output_type": "stream",
     "text": [
      "100%|█████████████████████████████████████████████████████████████████████████████████████████████████████████████████████████████████████████████████████████████████████████████████████████████████| 3779/3779 [00:03<00:00, 1094.02it/s]\n"
     ]
    }
   ],
   "source": [
    "for split in ['db_no_agree_no_dups', 'db_agree_no_dups']:\n",
    "    for dataset in ['ChEMBL', 'DrugBank', 'NCATS']:\n",
    "        x_train, y_train = create_all_data(f'./split/{split}/{dataset}/train.csv')\n",
    "        x_train.columns = [s.replace('[', '_').replace(']', '_') for s in x_train.columns]\n",
    "#         x_train.fillna(0, inplace=True)\n",
    "\n",
    "        x_test, y_test = create_all_data(f'./split/{split}/{dataset}/test.csv')\n",
    "        x_test.columns = [s.replace(',', '_') for s in x_test.columns]\n",
    "#         x_test.fillna(0, inplace=True)\n",
    "        \n",
    "        for clf in [XGBClassifier()]:\n",
    "            clf.fit(x_train, y_train)\n",
    "\n",
    "            preds = clf.predict_proba(x_test)[:, 1]\n",
    "\n",
    "            auc = round(roc_auc_score(y_test, preds), 4)\n",
    "            auc_pr = round(average_precision_score(y_test, preds), 4)\n",
    "\n",
    "            print(f'{split=} {dataset=} {clf=} AUC={auc}  AUC-PR={auc_pr}')"
   ]
  },
  {
   "cell_type": "code",
   "execution_count": null,
   "metadata": {},
   "outputs": [],
   "source": [
    "import random\n",
    "import os\n",
    "def find_best_threshold(y_true, y_prob):\n",
    "    # calculate roc curves\n",
    "    fpr, tpr, thresholds = roc_curve(y_true, y_prob)\n",
    "    # get the best threshold\n",
    "    J = tpr - fpr\n",
    "    ix = np.argmax(J)\n",
    "    best_thresh = thresholds[ix]\n",
    "    return best_thresh\n",
    "\n",
    "def set_random_seed(seed_value, use_cuda=True):\n",
    "    np.random.seed(seed_value)  # cpu vars\n",
    "    random.seed(seed_value)  # Python\n",
    "    os.environ['PYTHONHASHSEED'] = str(seed_value)  # Python hash buildin"
   ]
  },
  {
   "cell_type": "code",
   "execution_count": null,
   "metadata": {},
   "outputs": [],
   "source": [
    "seed = 42\n",
    "set_random_seed(seed, False)"
   ]
  },
  {
   "cell_type": "code",
   "execution_count": null,
   "metadata": {},
   "outputs": [],
   "source": [
    "def prepare_data(data_path):\n",
    "    final_data = pd.read_csv(data_path).reset_index(drop=True)\n",
    "    final_data = final_data[['smiles', 'withdrawn_class']]\n",
    "    mordred_df = calc_descriptors(final_data['smiles'].tolist())\n",
    "    final_data = pd.concat([final_data, mordred_df[['nHBAcc', 'nHBDon', 'FilterItLogS', 'SLogP']]], axis=1)\n",
    "    shape_before = final_data.shape[0]\n",
    "    final_data = pd.merge(final_data, toxprint_feat, how='inner', left_on='smiles', right_on='M_SMILES')\n",
    "    shape_after = final_data.shape[0]\n",
    "    assert(shape_before == shape_after)\n",
    "    final_data['The number of total chemotypes'] = final_data.apply(lambda x: count_total_chemotypes(toxprint_feat, x), axis=1)\n",
    "    \n",
    "    X = final_data.copy()\n",
    "    y = X['withdrawn_class']\n",
    "    del X['withdrawn_class']\n",
    "    del X['smiles']\n",
    "    del X['M_SMILES']\n",
    "    X = X[feature_set1]\n",
    "    return X, y"
   ]
  },
  {
   "cell_type": "markdown",
   "metadata": {},
   "source": [
    "## Hyperparameter tuning"
   ]
  },
  {
   "cell_type": "code",
   "execution_count": null,
   "metadata": {},
   "outputs": [],
   "source": [
    "import signal, time, random\n",
    "\n",
    "class TimeoutError (RuntimeError):\n",
    "    pass\n",
    "\n",
    "def handler (signum, frame):\n",
    "    raise TimeoutError()\n",
    "\n",
    "signal.signal (signal.SIGALRM, handler)\n",
    "\n",
    "try:\n",
    "    signal.alarm (2)\n",
    "    time.sleep (5)\n",
    "    print ('okֿֿ')\n",
    "except TimeoutError as ex:\n",
    "    print ('timeout')"
   ]
  },
  {
   "cell_type": "code",
   "execution_count": null,
   "metadata": {
    "jupyter": {
     "outputs_hidden": true
    },
    "scrolled": true,
    "tags": []
   },
   "outputs": [],
   "source": [
    "class TimeoutError (RuntimeError):\n",
    "    pass\n",
    "\n",
    "def handler (signum, frame):\n",
    "    raise TimeoutError()\n",
    "\n",
    "signal.signal (signal.SIGALRM, handler)\n",
    "\n",
    "output_path = './data/new_data/hyperparameter_tuning/db_no_agree_no_dups/turkish_svm/'\n",
    "results_cross_db = Scorer()\n",
    "for source in ['DrugBank', 'ChEMBL', 'NCATS']:\n",
    "    train_path = os.path.join(data_path, source, 'train.csv')\n",
    "    X, y = prepare_data(train_path)\n",
    "\n",
    "    \n",
    "    results_collector_db = Scorer()\n",
    "    skf = StratifiedKFold(n_splits=2, random_state=seed, shuffle=True)\n",
    "    skf.get_n_splits(X, y)\n",
    "\n",
    "    for g in [0.001, 0.01, 0.1, 1, 10, 100]:\n",
    "        for c in [0.001, 0.01, 0.1, 1, 10, 100]:\n",
    "            for k in ['linear', 'poly', 'rbf']:\n",
    "                modal_name = str(g) + '_' + str(c) + '_' + k\n",
    "                try:\n",
    "                    signal.alarm (120)\n",
    "                    if (k == 'linear' or k == 'poly') and (c >= 5 or g >= 10):\n",
    "                        continue\n",
    "                    print(modal_name)\n",
    "                    rep = 0\n",
    "                    for train_index, test_index in skf.split(X, y):\n",
    "                        rep += 1\n",
    "                        clf = SVC(C=c, gamma=g, kernel=k, probability=True)\n",
    "\n",
    "                        X_train, X_test = X.iloc[train_index], X.iloc[test_index]\n",
    "                        y_train, y_test = y.iloc[train_index], y.iloc[test_index]\n",
    "                        X_train = preprocessing.scale(X_train)\n",
    "                        X_test = preprocessing.scale(X_test)\n",
    "                        clf.fit(X_train, y_train)\n",
    "                        clf_preds = clf.predict_proba(X_test)[:, 1]\n",
    "\n",
    "                        results_collector_db.add_score(modal_name, 'SVC', y_test, clf_preds, rep, find_best_threshold(y_test, clf_preds))\n",
    "                        print(rep)\n",
    "                except TimeoutError as ex:\n",
    "                    print ('timeout', modal_name)\n",
    "                    \n",
    "    os.makedirs(os.path.join(output_path, source), exist_ok=True)\n",
    "    c = dict(results_collector_db.results)\n",
    "    results_df = pd.DataFrame(c).groupby(['Name','Model','Modalities']).mean().sort_values(by='AUPR').reset_index()\n",
    "    results_df.to_csv(os.path.join(output_path, source, 'results.csv'))\n",
    "    \n",
    "    \n",
    "    "
   ]
  },
  {
   "cell_type": "code",
   "execution_count": null,
   "metadata": {},
   "outputs": [],
   "source": [
    "results_df"
   ]
  },
  {
   "cell_type": "markdown",
   "metadata": {},
   "source": [
    "## Train"
   ]
  },
  {
   "cell_type": "code",
   "execution_count": null,
   "metadata": {},
   "outputs": [],
   "source": [
    "data_path = './split/db_agree_no_dups/'"
   ]
  },
  {
   "cell_type": "code",
   "execution_count": null,
   "metadata": {
    "scrolled": true
   },
   "outputs": [],
   "source": [
    "results_cross_db = Scorer()\n",
    "for source in ['DrugBank', 'NCATS','ChEMBL']:\n",
    "    print(source)\n",
    "    best_params_df = pd.read_csv(f'./data/new_data/hyperparameter_tuning//db_agree_no_dups/turkish_svm/{source}/results.csv')\n",
    "    train_path = os.path.join(data_path, source, 'train.csv')\n",
    "    test_path = os.path.join(data_path, source, 'test.csv')\n",
    "    \n",
    "    X_train, y_train = prepare_data(train_path)\n",
    "    X_test, y_test = prepare_data(test_path)\n",
    "    \n",
    "    X_train = preprocessing.scale(X_train)\n",
    "    X_test = preprocessing.scale(X_test)\n",
    "    \n",
    "    g, c, k = best_params_df['Modalities'].values[0].split('_')\n",
    "    threshold = best_params_df['Threshold'].values[0]\n",
    "    modal_name = str(g) + '_' + str(c) + '_' + k\n",
    "    print(modal_name)\n",
    "    \n",
    "    clf = SVC(C=float(c), gamma=float(g), kernel=k, probability=True)\n",
    "    clf.fit(X_train, y_train)\n",
    "    clf_preds = clf.predict_proba(X_test)[:, 1]\n",
    "    results_cross_db.add_score(source, 'SVC', y_test, clf_preds, 0, threshold)\n"
   ]
  },
  {
   "cell_type": "code",
   "execution_count": null,
   "metadata": {},
   "outputs": [],
   "source": [
    "c = dict(results_cross_db.results)\n",
    "df = pd.DataFrame(c).groupby(['Name','Model','Modalities']).mean()"
   ]
  },
  {
   "cell_type": "code",
   "execution_count": null,
   "metadata": {},
   "outputs": [],
   "source": [
    "df"
   ]
  },
  {
   "cell_type": "code",
   "execution_count": null,
   "metadata": {},
   "outputs": [],
   "source": [
    "pd.DataFrame(c)"
   ]
  },
  {
   "cell_type": "code",
   "execution_count": null,
   "metadata": {},
   "outputs": [],
   "source": []
  }
 ],
 "metadata": {
  "kernelspec": {
   "display_name": "Python 3 (ipykernel)",
   "language": "python",
   "name": "python3"
  },
  "language_info": {
   "codemirror_mode": {
    "name": "ipython",
    "version": 3
   },
   "file_extension": ".py",
   "mimetype": "text/x-python",
   "name": "python",
   "nbconvert_exporter": "python",
   "pygments_lexer": "ipython3",
   "version": "3.10.8"
  }
 },
 "nbformat": 4,
 "nbformat_minor": 4
}
