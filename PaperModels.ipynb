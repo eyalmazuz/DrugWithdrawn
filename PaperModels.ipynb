{
 "cells": [
  {
   "cell_type": "code",
   "execution_count": 1,
   "metadata": {},
   "outputs": [
    {
     "name": "stderr",
     "output_type": "stream",
     "text": [
      "Skipped loading some Tensorflow models, missing a dependency. No module named 'tensorflow'\n",
      "Skipped loading modules with pytorch-geometric dependency, missing a dependency. No module named 'torch_geometric'\n",
      "Skipped loading modules with pytorch-geometric dependency, missing a dependency. cannot import name 'DMPNN' from 'deepchem.models.torch_models' (/home/eyal/.local/lib/python3.10/site-packages/deepchem/models/torch_models/__init__.py)\n",
      "Skipped loading some Jax models, missing a dependency. No module named 'jax'\n"
     ]
    }
   ],
   "source": [
    "import pandas as pd\n",
    "from rdkit import Chem\n",
    "from rdkit.Chem import AllChem\n",
    "from mordred import Calculator, descriptors\n",
    "from rdkit import DataStructs\n",
    "import numpy as np\n",
    "import os\n",
    "\n",
    "from rdkit import RDLogger                                                                                                                                                               \n",
    "RDLogger.DisableLog('rdApp.*')  \n",
    "\n",
    "from xgboost import XGBClassifier\n",
    "\n",
    "from helpers.scorer import *\n",
    "from sklearn.model_selection import RepeatedKFold\n",
    "from sklearn.ensemble import RandomForestClassifier\n",
    "from sklearn.svm import SVC\n",
    "from sklearn.metrics import confusion_matrix, roc_auc_score, auc, roc_curve, accuracy_score, precision_score, recall_score, f1_score, make_scorer, precision_recall_curve, average_precision_score, cohen_kappa_score\n",
    "from sklearn.model_selection import cross_val_score, cross_validate, RepeatedStratifiedKFold, StratifiedKFold\n",
    "from sklearn.pipeline import make_pipeline\n",
    "from sklearn.preprocessing import StandardScaler\n",
    "from sklearn.model_selection import ShuffleSplit, KFold\n",
    "import math\n",
    "\n",
    "import deepchem as dc\n",
    "from rdkit import Chem\n",
    "\n",
    "# from helpers.scorer import *\n",
    "from sklearn import preprocessing\n",
    "import signal, time, random"
   ]
  },
  {
   "cell_type": "markdown",
   "metadata": {},
   "source": [
    "# My Data + Paper Model"
   ]
  },
  {
   "cell_type": "code",
   "execution_count": 2,
   "metadata": {},
   "outputs": [],
   "source": [
    "def count_total_chemotypes(toxprint_df,row):\n",
    "    features = toxprint_df.columns.tolist()\n",
    "    counter = 0\n",
    "    for feature in features[1:]:\n",
    "        counter += row[feature]\n",
    "    return counter"
   ]
  },
  {
   "cell_type": "code",
   "execution_count": 3,
   "metadata": {},
   "outputs": [],
   "source": [
    "feature_set1 = ['nHBAcc', 'nHBDon', 'FilterItLogS', 'SLogP', 'bond:C(=O)N_carboxamide_(NH2)', 'bond:C(=O)N_carboxamide_(NHR)',\n",
    "                'bond:C(=O)N_carboxamide_generic', 'bond:C=O_acyl_hydrazide', \n",
    "                'bond:C=O_carbonyl_ab-unsaturated_aliphatic_(michael_acceptors)', \n",
    "                'bond:CC(=O)C_ketone_alkene_cyclic_(C6)', 'bond:CC(=O)C_ketone_alkene_cyclic_2-en-1-one', \n",
    "                'bond:CN_amine_pri-NH2_aromatic', 'bond:CN_amine_pri-NH2_generic', 'bond:COC_ether_aliphatic',\n",
    "                'bond:COH_alcohol_diol_(1_3-)', 'bond:CX_halide_aromatic-X_halo_phenol_meta',\n",
    "                'bond:NC=O_aminocarbonyl_generic', 'bond:NN_hydrazine_acyclic_(connect_noZ)',\n",
    "                'bond:PC_phosphorus_organo_generic', 'chain:alkaneCyclic_propyl_C3', 'chain:alkyne_ethyne_generic',\n",
    "                'group:aminoAcid_aminoAcid_generic', 'group:aminoAcid_asparagine', 'group:aminoAcid_leucine',\n",
    "                'group:carbohydrate_aldopentose', 'group:carbohydrate_ketohexose',\n",
    "                'group:carbohydrate_pentofuranose_2-deoxy', 'group:carbohydrate_pentofuranose',\n",
    "                'group:ligand_path_5_bidentate_aminopropanal', 'group:nucleobase_adenine', 'group:nucleobase_uracil',\n",
    "                'ring:hetero_[5]_N_pyrazole', 'ring:hetero_[5]_O_dioxolane_(1_3-)', 'ring:hetero_[5]_O_furan',\n",
    "                'ring:hetero_[5]_O_oxolane', 'ring:hetero_[5_6]_N_purine', 'ring:hetero_[6]_N_diazine_(1_3-)_generic',\n",
    "                'ring:hetero_[6]_N_pyrimidine', 'ring:hetero_[6]_N_pyrimidine_2_4-dione',\n",
    "                'ring:hetero_[6]_N_triazine_generic', 'ring:hetero_[6]_Z_1_2_4-', 'ring:hetero_[6]_Z_1_3-',\n",
    "                'ring:hetero_[6]_Z_generic', 'The number of total chemotypes']"
   ]
  },
  {
   "cell_type": "code",
   "execution_count": 4,
   "metadata": {},
   "outputs": [
    {
     "data": {
      "text/plain": [
       "(6521, 730)"
      ]
     },
     "execution_count": 4,
     "metadata": {},
     "output_type": "execute_result"
    }
   ],
   "source": [
    "toxprint_feat = pd.read_csv('./data/toxprint_V2_new_data_vs_smiles.tsv', sep='\\t')\n",
    "toxprint_feat.shape"
   ]
  },
  {
   "cell_type": "markdown",
   "metadata": {},
   "source": [
    "Here we decide with evaluation to use and with dataset to test on"
   ]
  },
  {
   "cell_type": "code",
   "execution_count": 5,
   "metadata": {},
   "outputs": [],
   "source": [
    "data_path = './split/db_no_agree_no_dups'"
   ]
  },
  {
   "cell_type": "markdown",
   "metadata": {},
   "source": [
    "## Helper functions"
   ]
  },
  {
   "cell_type": "code",
   "execution_count": 6,
   "metadata": {},
   "outputs": [],
   "source": [
    "rdkit_descs = dc.feat.RDKitDescriptors()\n",
    "mordred = dc.feat.MordredDescriptors(ignore_3D=False)\n",
    "pubchem = dc.feat.PubChemFingerprint()\n",
    "mol2vec = dc.feat.Mol2VecFingerprint()\n",
    "ecfp = dc.feat.CircularFingerprint(size=2048, radius=4)"
   ]
  },
  {
   "cell_type": "code",
   "execution_count": 7,
   "metadata": {},
   "outputs": [],
   "source": [
    "def calc_descriptors(smiles):\n",
    "    calc = Calculator([descriptors.SLogP,descriptors.LogS, descriptors.HydrogenBond], ignore_3D=False)\n",
    "    mordred_desc = [Chem.MolFromSmiles(smi) for smi in smiles]\n",
    "    # as pandas\n",
    "    mordred_df = calc.pandas(mordred_desc)\n",
    "    return mordred_df"
   ]
  },
  {
   "cell_type": "code",
   "execution_count": 8,
   "metadata": {},
   "outputs": [],
   "source": [
    "def create_svm_data(path):\n",
    "    df = pd.read_csv(path, usecols=['smiles', 'withdrawn_class'])\n",
    "    df = pd.merge(df, toxprint_feat, how='inner', left_on='smiles', right_on='M_SMILES')\n",
    "    \n",
    "    mordred_df = calc_descriptors(df['smiles'].tolist())\n",
    "    df = pd.concat([df, mordred_df[['nHBAcc', 'nHBDon', 'FilterItLogS', 'SLogP']]], axis=1)\n",
    "    \n",
    "    df['The number of total chemotypes'] = df.apply(lambda x: count_total_chemotypes(toxprint_feat, x), axis=1)\n",
    "\n",
    "    y = df['withdrawn_class']\n",
    "    x = df.drop(['smiles', 'withdrawn_class', 'M_SMILES'], axis=1)\n",
    "    \n",
    "    return x, y"
   ]
  },
  {
   "cell_type": "code",
   "execution_count": 13,
   "metadata": {},
   "outputs": [],
   "source": [
    "def create_mol2vec_data(path):\n",
    "    df = pd.read_csv(path, usecols=['smiles', 'withdrawn_class'])\n",
    "\n",
    "    features = mol2vec.featurize(df.smiles)\n",
    "    columns = [f'{str(mol2vec)}_{i}' for i in range(len(features[0]))]\n",
    "    df = pd.concat([df, pd.DataFrame(features, columns=columns)], axis=1)\n",
    "        \n",
    "    y = df['withdrawn_class']\n",
    "    x = df.drop(['smiles', 'withdrawn_class'], axis=1)\n",
    "    \n",
    "    return x, y"
   ]
  },
  {
   "cell_type": "code",
   "execution_count": 10,
   "metadata": {},
   "outputs": [],
   "source": [
    "def create_all_data(path):\n",
    "    df = pd.read_csv(path, usecols=['smiles', 'withdrawn_class'])\n",
    "    df = pd.merge(df, toxprint_feat, how='inner', left_on='smiles', right_on='M_SMILES')\n",
    "    \n",
    "    mordred_df = calc_descriptors(df['smiles'].tolist())\n",
    "    df = pd.concat([df, mordred_df[['nHBAcc', 'nHBDon', 'FilterItLogS', 'SLogP']]], axis=1)\n",
    "    \n",
    "    df['The number of total chemotypes'] = df.apply(lambda x: count_total_chemotypes(toxprint_feat, x), axis=1)\n",
    "\n",
    "    for feat in [rdkit_descs, mol2vec, ecfp]:\n",
    "        print(f'extracting {feat}')\n",
    "        features = feat.featurize(df.smiles)\n",
    "        columns = [f'{str(feat)}_{i}' for i in range(len(features[0]))]\n",
    "        df = pd.concat([df, pd.DataFrame(features, columns=columns)], axis=1)\n",
    "\n",
    "        \n",
    "    y = df['withdrawn_class']\n",
    "    x = df.drop(['smiles', 'withdrawn_class', 'M_SMILES'], axis=1)\n",
    "    \n",
    "    return x, y"
   ]
  },
  {
   "cell_type": "markdown",
   "metadata": {},
   "source": [
    "# Train TOX FEATURES"
   ]
  },
  {
   "cell_type": "code",
   "execution_count": 11,
   "metadata": {
    "scrolled": true
   },
   "outputs": [
    {
     "name": "stderr",
     "output_type": "stream",
     "text": [
      "100%|█████████████████████████████████████████████████████████████████████████████████████████████████████████████████████████████████████████████████████████████████████████████████████████████████| 3779/3779 [00:03<00:00, 1091.21it/s]\n",
      "100%|█████████████████████████████████████████████████████████████████████████████████████████████████████████████████████████████████████████████████████████████████████████████████████████████████| 2565/2565 [00:02<00:00, 1081.45it/s]\n",
      "/home/eyal/.local/lib/python3.10/site-packages/sklearn/base.py:493: FutureWarning: The feature names should match those that were passed during fit. Starting version 1.2, an error will be raised.\n",
      "Feature names unseen at fit time:\n",
      "- bond:CX_halide_alkyl-X_bicyclo[2_2_1]heptane\n",
      "- bond:CX_halide_alkyl-X_bicyclo[2_2_1]heptene\n",
      "- bond:N=C=O_isocyanate_[O_S]\n",
      "- bond:N=[N+]=[N-]_azide_aromatic\n",
      "- bond:N=[N+]=[N-]_azide_generic\n",
      "- ...\n",
      "Feature names seen at fit time, yet now missing:\n",
      "- bond:CX_halide_alkyl-X_bicyclo_2_2_1_heptane\n",
      "- bond:CX_halide_alkyl-X_bicyclo_2_2_1_heptene\n",
      "- bond:N=C=O_isocyanate__O_S_\n",
      "- bond:N=_N+_=_N-__azide_aromatic\n",
      "- bond:N=_N+_=_N-__azide_generic\n",
      "- ...\n",
      "\n",
      "  warnings.warn(message, FutureWarning)\n"
     ]
    },
    {
     "name": "stdout",
     "output_type": "stream",
     "text": [
      "split='db_no_agree_no_dups' dataset='ChEMBL' clf=SVC(probability=True) AUC=0.5571  AUC-PR=0.2733\n",
      "split='db_no_agree_no_dups' dataset='ChEMBL' clf=XGBClassifier(base_score=0.5, booster='gbtree', callbacks=None,\n",
      "              colsample_bylevel=1, colsample_bynode=1, colsample_bytree=1,\n",
      "              early_stopping_rounds=None, enable_categorical=False,\n",
      "              eval_metric=None, gamma=0, gpu_id=-1, grow_policy='depthwise',\n",
      "              importance_type=None, interaction_constraints='',\n",
      "              learning_rate=0.300000012, max_bin=256, max_cat_to_onehot=4,\n",
      "              max_delta_step=0, max_depth=6, max_leaves=0, min_child_weight=1,\n",
      "              missing=nan, monotone_constraints='()', n_estimators=100,\n",
      "              n_jobs=0, num_parallel_tree=1, predictor='auto', random_state=0,\n",
      "              reg_alpha=0, reg_lambda=1, ...) AUC=0.5542  AUC-PR=0.2671\n"
     ]
    },
    {
     "name": "stderr",
     "output_type": "stream",
     "text": [
      "100%|█████████████████████████████████████████████████████████████████████████████████████████████████████████████████████████████████████████████████████████████████████████████████████████████████| 3998/3998 [00:03<00:00, 1109.98it/s]\n",
      "100%|█████████████████████████████████████████████████████████████████████████████████████████████████████████████████████████████████████████████████████████████████████████████████████████████████| 2431/2431 [00:02<00:00, 1125.35it/s]\n",
      "/home/eyal/.local/lib/python3.10/site-packages/sklearn/base.py:493: FutureWarning: The feature names should match those that were passed during fit. Starting version 1.2, an error will be raised.\n",
      "Feature names unseen at fit time:\n",
      "- bond:CX_halide_alkyl-X_bicyclo[2_2_1]heptane\n",
      "- bond:CX_halide_alkyl-X_bicyclo[2_2_1]heptene\n",
      "- bond:N=C=O_isocyanate_[O_S]\n",
      "- bond:N=[N+]=[N-]_azide_aromatic\n",
      "- bond:N=[N+]=[N-]_azide_generic\n",
      "- ...\n",
      "Feature names seen at fit time, yet now missing:\n",
      "- bond:CX_halide_alkyl-X_bicyclo_2_2_1_heptane\n",
      "- bond:CX_halide_alkyl-X_bicyclo_2_2_1_heptene\n",
      "- bond:N=C=O_isocyanate__O_S_\n",
      "- bond:N=_N+_=_N-__azide_aromatic\n",
      "- bond:N=_N+_=_N-__azide_generic\n",
      "- ...\n",
      "\n",
      "  warnings.warn(message, FutureWarning)\n"
     ]
    },
    {
     "name": "stdout",
     "output_type": "stream",
     "text": [
      "split='db_no_agree_no_dups' dataset='DrugBank' clf=SVC(probability=True) AUC=0.6035  AUC-PR=0.123\n",
      "split='db_no_agree_no_dups' dataset='DrugBank' clf=XGBClassifier(base_score=0.5, booster='gbtree', callbacks=None,\n",
      "              colsample_bylevel=1, colsample_bynode=1, colsample_bytree=1,\n",
      "              early_stopping_rounds=None, enable_categorical=False,\n",
      "              eval_metric=None, gamma=0, gpu_id=-1, grow_policy='depthwise',\n",
      "              importance_type=None, interaction_constraints='',\n",
      "              learning_rate=0.300000012, max_bin=256, max_cat_to_onehot=4,\n",
      "              max_delta_step=0, max_depth=6, max_leaves=0, min_child_weight=1,\n",
      "              missing=nan, monotone_constraints='()', n_estimators=100,\n",
      "              n_jobs=0, num_parallel_tree=1, predictor='auto', random_state=0,\n",
      "              reg_alpha=0, reg_lambda=1, ...) AUC=0.5606  AUC-PR=0.1031\n"
     ]
    },
    {
     "name": "stderr",
     "output_type": "stream",
     "text": [
      "100%|█████████████████████████████████████████████████████████████████████████████████████████████████████████████████████████████████████████████████████████████████████████████████████████████████| 2354/2354 [00:02<00:00, 1017.25it/s]\n",
      "100%|█████████████████████████████████████████████████████████████████████████████████████████████████████████████████████████████████████████████████████████████████████████████████████████████████| 4013/4013 [00:03<00:00, 1151.59it/s]\n",
      "/home/eyal/.local/lib/python3.10/site-packages/sklearn/base.py:493: FutureWarning: The feature names should match those that were passed during fit. Starting version 1.2, an error will be raised.\n",
      "Feature names unseen at fit time:\n",
      "- bond:CX_halide_alkyl-X_bicyclo[2_2_1]heptane\n",
      "- bond:CX_halide_alkyl-X_bicyclo[2_2_1]heptene\n",
      "- bond:N=C=O_isocyanate_[O_S]\n",
      "- bond:N=[N+]=[N-]_azide_aromatic\n",
      "- bond:N=[N+]=[N-]_azide_generic\n",
      "- ...\n",
      "Feature names seen at fit time, yet now missing:\n",
      "- bond:CX_halide_alkyl-X_bicyclo_2_2_1_heptane\n",
      "- bond:CX_halide_alkyl-X_bicyclo_2_2_1_heptene\n",
      "- bond:N=C=O_isocyanate__O_S_\n",
      "- bond:N=_N+_=_N-__azide_aromatic\n",
      "- bond:N=_N+_=_N-__azide_generic\n",
      "- ...\n",
      "\n",
      "  warnings.warn(message, FutureWarning)\n"
     ]
    },
    {
     "name": "stdout",
     "output_type": "stream",
     "text": [
      "split='db_no_agree_no_dups' dataset='NCATS' clf=SVC(probability=True) AUC=0.5174  AUC-PR=0.2825\n",
      "split='db_no_agree_no_dups' dataset='NCATS' clf=XGBClassifier(base_score=0.5, booster='gbtree', callbacks=None,\n",
      "              colsample_bylevel=1, colsample_bynode=1, colsample_bytree=1,\n",
      "              early_stopping_rounds=None, enable_categorical=False,\n",
      "              eval_metric=None, gamma=0, gpu_id=-1, grow_policy='depthwise',\n",
      "              importance_type=None, interaction_constraints='',\n",
      "              learning_rate=0.300000012, max_bin=256, max_cat_to_onehot=4,\n",
      "              max_delta_step=0, max_depth=6, max_leaves=0, min_child_weight=1,\n",
      "              missing=nan, monotone_constraints='()', n_estimators=100,\n",
      "              n_jobs=0, num_parallel_tree=1, predictor='auto', random_state=0,\n",
      "              reg_alpha=0, reg_lambda=1, ...) AUC=0.4958  AUC-PR=0.2648\n"
     ]
    },
    {
     "name": "stderr",
     "output_type": "stream",
     "text": [
      "100%|█████████████████████████████████████████████████████████████████████████████████████████████████████████████████████████████████████████████████████████████████████████████████████████████████| 3779/3779 [00:03<00:00, 1117.81it/s]\n",
      "100%|█████████████████████████████████████████████████████████████████████████████████████████████████████████████████████████████████████████████████████████████████████████████████████████████████| 2171/2171 [00:02<00:00, 1062.92it/s]\n",
      "/home/eyal/.local/lib/python3.10/site-packages/sklearn/base.py:493: FutureWarning: The feature names should match those that were passed during fit. Starting version 1.2, an error will be raised.\n",
      "Feature names unseen at fit time:\n",
      "- bond:CX_halide_alkyl-X_bicyclo[2_2_1]heptane\n",
      "- bond:CX_halide_alkyl-X_bicyclo[2_2_1]heptene\n",
      "- bond:N=C=O_isocyanate_[O_S]\n",
      "- bond:N=[N+]=[N-]_azide_aromatic\n",
      "- bond:N=[N+]=[N-]_azide_generic\n",
      "- ...\n",
      "Feature names seen at fit time, yet now missing:\n",
      "- bond:CX_halide_alkyl-X_bicyclo_2_2_1_heptane\n",
      "- bond:CX_halide_alkyl-X_bicyclo_2_2_1_heptene\n",
      "- bond:N=C=O_isocyanate__O_S_\n",
      "- bond:N=_N+_=_N-__azide_aromatic\n",
      "- bond:N=_N+_=_N-__azide_generic\n",
      "- ...\n",
      "\n",
      "  warnings.warn(message, FutureWarning)\n"
     ]
    },
    {
     "name": "stdout",
     "output_type": "stream",
     "text": [
      "split='db_agree_no_dups' dataset='ChEMBL' clf=SVC(probability=True) AUC=0.6033  AUC-PR=0.228\n",
      "split='db_agree_no_dups' dataset='ChEMBL' clf=XGBClassifier(base_score=0.5, booster='gbtree', callbacks=None,\n",
      "              colsample_bylevel=1, colsample_bynode=1, colsample_bytree=1,\n",
      "              early_stopping_rounds=None, enable_categorical=False,\n",
      "              eval_metric=None, gamma=0, gpu_id=-1, grow_policy='depthwise',\n",
      "              importance_type=None, interaction_constraints='',\n",
      "              learning_rate=0.300000012, max_bin=256, max_cat_to_onehot=4,\n",
      "              max_delta_step=0, max_depth=6, max_leaves=0, min_child_weight=1,\n",
      "              missing=nan, monotone_constraints='()', n_estimators=100,\n",
      "              n_jobs=0, num_parallel_tree=1, predictor='auto', random_state=0,\n",
      "              reg_alpha=0, reg_lambda=1, ...) AUC=0.6362  AUC-PR=0.2642\n"
     ]
    },
    {
     "name": "stderr",
     "output_type": "stream",
     "text": [
      "100%|█████████████████████████████████████████████████████████████████████████████████████████████████████████████████████████████████████████████████████████████████████████████████████████████████| 3998/3998 [00:03<00:00, 1124.26it/s]\n",
      "100%|█████████████████████████████████████████████████████████████████████████████████████████████████████████████████████████████████████████████████████████████████████████████████████████████████| 1982/1982 [00:01<00:00, 1045.45it/s]\n",
      "/home/eyal/.local/lib/python3.10/site-packages/sklearn/base.py:493: FutureWarning: The feature names should match those that were passed during fit. Starting version 1.2, an error will be raised.\n",
      "Feature names unseen at fit time:\n",
      "- bond:CX_halide_alkyl-X_bicyclo[2_2_1]heptane\n",
      "- bond:CX_halide_alkyl-X_bicyclo[2_2_1]heptene\n",
      "- bond:N=C=O_isocyanate_[O_S]\n",
      "- bond:N=[N+]=[N-]_azide_aromatic\n",
      "- bond:N=[N+]=[N-]_azide_generic\n",
      "- ...\n",
      "Feature names seen at fit time, yet now missing:\n",
      "- bond:CX_halide_alkyl-X_bicyclo_2_2_1_heptane\n",
      "- bond:CX_halide_alkyl-X_bicyclo_2_2_1_heptene\n",
      "- bond:N=C=O_isocyanate__O_S_\n",
      "- bond:N=_N+_=_N-__azide_aromatic\n",
      "- bond:N=_N+_=_N-__azide_generic\n",
      "- ...\n",
      "\n",
      "  warnings.warn(message, FutureWarning)\n"
     ]
    },
    {
     "name": "stdout",
     "output_type": "stream",
     "text": [
      "split='db_agree_no_dups' dataset='DrugBank' clf=SVC(probability=True) AUC=0.6499  AUC-PR=0.1466\n",
      "split='db_agree_no_dups' dataset='DrugBank' clf=XGBClassifier(base_score=0.5, booster='gbtree', callbacks=None,\n",
      "              colsample_bylevel=1, colsample_bynode=1, colsample_bytree=1,\n",
      "              early_stopping_rounds=None, enable_categorical=False,\n",
      "              eval_metric=None, gamma=0, gpu_id=-1, grow_policy='depthwise',\n",
      "              importance_type=None, interaction_constraints='',\n",
      "              learning_rate=0.300000012, max_bin=256, max_cat_to_onehot=4,\n",
      "              max_delta_step=0, max_depth=6, max_leaves=0, min_child_weight=1,\n",
      "              missing=nan, monotone_constraints='()', n_estimators=100,\n",
      "              n_jobs=0, num_parallel_tree=1, predictor='auto', random_state=0,\n",
      "              reg_alpha=0, reg_lambda=1, ...) AUC=0.674  AUC-PR=0.1473\n"
     ]
    },
    {
     "name": "stderr",
     "output_type": "stream",
     "text": [
      "100%|██████████████████████████████████████████████████████████████████████████████████████████████████████████████████████████████████████████████████████████████████████████████████████████████████| 2354/2354 [00:02<00:00, 960.00it/s]\n",
      "100%|█████████████████████████████████████████████████████████████████████████████████████████████████████████████████████████████████████████████████████████████████████████████████████████████████| 3601/3601 [00:03<00:00, 1090.31it/s]\n",
      "/home/eyal/.local/lib/python3.10/site-packages/sklearn/base.py:493: FutureWarning: The feature names should match those that were passed during fit. Starting version 1.2, an error will be raised.\n",
      "Feature names unseen at fit time:\n",
      "- bond:CX_halide_alkyl-X_bicyclo[2_2_1]heptane\n",
      "- bond:CX_halide_alkyl-X_bicyclo[2_2_1]heptene\n",
      "- bond:N=C=O_isocyanate_[O_S]\n",
      "- bond:N=[N+]=[N-]_azide_aromatic\n",
      "- bond:N=[N+]=[N-]_azide_generic\n",
      "- ...\n",
      "Feature names seen at fit time, yet now missing:\n",
      "- bond:CX_halide_alkyl-X_bicyclo_2_2_1_heptane\n",
      "- bond:CX_halide_alkyl-X_bicyclo_2_2_1_heptene\n",
      "- bond:N=C=O_isocyanate__O_S_\n",
      "- bond:N=_N+_=_N-__azide_aromatic\n",
      "- bond:N=_N+_=_N-__azide_generic\n",
      "- ...\n",
      "\n",
      "  warnings.warn(message, FutureWarning)\n"
     ]
    },
    {
     "name": "stdout",
     "output_type": "stream",
     "text": [
      "split='db_agree_no_dups' dataset='NCATS' clf=SVC(probability=True) AUC=0.5479  AUC-PR=0.2594\n",
      "split='db_agree_no_dups' dataset='NCATS' clf=XGBClassifier(base_score=0.5, booster='gbtree', callbacks=None,\n",
      "              colsample_bylevel=1, colsample_bynode=1, colsample_bytree=1,\n",
      "              early_stopping_rounds=None, enable_categorical=False,\n",
      "              eval_metric=None, gamma=0, gpu_id=-1, grow_policy='depthwise',\n",
      "              importance_type=None, interaction_constraints='',\n",
      "              learning_rate=0.300000012, max_bin=256, max_cat_to_onehot=4,\n",
      "              max_delta_step=0, max_depth=6, max_leaves=0, min_child_weight=1,\n",
      "              missing=nan, monotone_constraints='()', n_estimators=100,\n",
      "              n_jobs=0, num_parallel_tree=1, predictor='auto', random_state=0,\n",
      "              reg_alpha=0, reg_lambda=1, ...) AUC=0.5466  AUC-PR=0.263\n"
     ]
    }
   ],
   "source": [
    "for split in ['db_no_agree_no_dups', 'db_agree_no_dups']:\n",
    "    for dataset in ['ChEMBL', 'DrugBank', 'NCATS']:\n",
    "        x_train, y_train = create_svm_data(f'./split/{split}/{dataset}/train.csv')\n",
    "        x_train.columns = [s.replace('[', '_').replace(']', '_') for s in x_train.columns]\n",
    "\n",
    "        x_test, y_test = create_svm_data(f'./split/{split}/{dataset}/test.csv')\n",
    "        x_test.columns = [s.replace(',', '_') for s in x_test.columns]\n",
    "        \n",
    "        for clf in [SVC(probability=True), XGBClassifier()]:\n",
    "            clf.fit(x_train, y_train)\n",
    "\n",
    "            preds = clf.predict_proba(x_test)[:, 1]\n",
    "\n",
    "            auc = round(roc_auc_score(y_test, preds), 4)\n",
    "            auc_pr = round(average_precision_score(y_test, preds), 4)\n",
    "\n",
    "            print(f'{split=} {dataset=} {clf=} AUC={auc}  AUC-PR={auc_pr}')"
   ]
  },
  {
   "cell_type": "markdown",
   "metadata": {},
   "source": [
    "# Train MOL2VEC Features"
   ]
  },
  {
   "cell_type": "code",
   "execution_count": 14,
   "metadata": {},
   "outputs": [
    {
     "name": "stdout",
     "output_type": "stream",
     "text": [
      "split='db_no_agree_no_dups' dataset='ChEMBL' clf=SVC(probability=True) AUC=0.5952  AUC-PR=0.3031\n",
      "split='db_no_agree_no_dups' dataset='ChEMBL' clf=XGBClassifier(base_score=0.5, booster='gbtree', callbacks=None,\n",
      "              colsample_bylevel=1, colsample_bynode=1, colsample_bytree=1,\n",
      "              early_stopping_rounds=None, enable_categorical=False,\n",
      "              eval_metric=None, gamma=0, gpu_id=-1, grow_policy='depthwise',\n",
      "              importance_type=None, interaction_constraints='',\n",
      "              learning_rate=0.300000012, max_bin=256, max_cat_to_onehot=4,\n",
      "              max_delta_step=0, max_depth=6, max_leaves=0, min_child_weight=1,\n",
      "              missing=nan, monotone_constraints='()', n_estimators=100,\n",
      "              n_jobs=0, num_parallel_tree=1, predictor='auto', random_state=0,\n",
      "              reg_alpha=0, reg_lambda=1, ...) AUC=0.4679  AUC-PR=0.2179\n",
      "split='db_no_agree_no_dups' dataset='DrugBank' clf=SVC(probability=True) AUC=0.6013  AUC-PR=0.1132\n",
      "split='db_no_agree_no_dups' dataset='DrugBank' clf=XGBClassifier(base_score=0.5, booster='gbtree', callbacks=None,\n",
      "              colsample_bylevel=1, colsample_bynode=1, colsample_bytree=1,\n",
      "              early_stopping_rounds=None, enable_categorical=False,\n",
      "              eval_metric=None, gamma=0, gpu_id=-1, grow_policy='depthwise',\n",
      "              importance_type=None, interaction_constraints='',\n",
      "              learning_rate=0.300000012, max_bin=256, max_cat_to_onehot=4,\n",
      "              max_delta_step=0, max_depth=6, max_leaves=0, min_child_weight=1,\n",
      "              missing=nan, monotone_constraints='()', n_estimators=100,\n",
      "              n_jobs=0, num_parallel_tree=1, predictor='auto', random_state=0,\n",
      "              reg_alpha=0, reg_lambda=1, ...) AUC=0.5132  AUC-PR=0.0893\n",
      "split='db_no_agree_no_dups' dataset='NCATS' clf=SVC(probability=True) AUC=0.5572  AUC-PR=0.3202\n",
      "split='db_no_agree_no_dups' dataset='NCATS' clf=XGBClassifier(base_score=0.5, booster='gbtree', callbacks=None,\n",
      "              colsample_bylevel=1, colsample_bynode=1, colsample_bytree=1,\n",
      "              early_stopping_rounds=None, enable_categorical=False,\n",
      "              eval_metric=None, gamma=0, gpu_id=-1, grow_policy='depthwise',\n",
      "              importance_type=None, interaction_constraints='',\n",
      "              learning_rate=0.300000012, max_bin=256, max_cat_to_onehot=4,\n",
      "              max_delta_step=0, max_depth=6, max_leaves=0, min_child_weight=1,\n",
      "              missing=nan, monotone_constraints='()', n_estimators=100,\n",
      "              n_jobs=0, num_parallel_tree=1, predictor='auto', random_state=0,\n",
      "              reg_alpha=0, reg_lambda=1, ...) AUC=0.4833  AUC-PR=0.2579\n",
      "split='db_agree_no_dups' dataset='ChEMBL' clf=SVC(probability=True) AUC=0.6371  AUC-PR=0.2676\n",
      "split='db_agree_no_dups' dataset='ChEMBL' clf=XGBClassifier(base_score=0.5, booster='gbtree', callbacks=None,\n",
      "              colsample_bylevel=1, colsample_bynode=1, colsample_bytree=1,\n",
      "              early_stopping_rounds=None, enable_categorical=False,\n",
      "              eval_metric=None, gamma=0, gpu_id=-1, grow_policy='depthwise',\n",
      "              importance_type=None, interaction_constraints='',\n",
      "              learning_rate=0.300000012, max_bin=256, max_cat_to_onehot=4,\n",
      "              max_delta_step=0, max_depth=6, max_leaves=0, min_child_weight=1,\n",
      "              missing=nan, monotone_constraints='()', n_estimators=100,\n",
      "              n_jobs=0, num_parallel_tree=1, predictor='auto', random_state=0,\n",
      "              reg_alpha=0, reg_lambda=1, ...) AUC=0.6348  AUC-PR=0.2433\n",
      "split='db_agree_no_dups' dataset='DrugBank' clf=SVC(probability=True) AUC=0.6414  AUC-PR=0.1292\n",
      "split='db_agree_no_dups' dataset='DrugBank' clf=XGBClassifier(base_score=0.5, booster='gbtree', callbacks=None,\n",
      "              colsample_bylevel=1, colsample_bynode=1, colsample_bytree=1,\n",
      "              early_stopping_rounds=None, enable_categorical=False,\n",
      "              eval_metric=None, gamma=0, gpu_id=-1, grow_policy='depthwise',\n",
      "              importance_type=None, interaction_constraints='',\n",
      "              learning_rate=0.300000012, max_bin=256, max_cat_to_onehot=4,\n",
      "              max_delta_step=0, max_depth=6, max_leaves=0, min_child_weight=1,\n",
      "              missing=nan, monotone_constraints='()', n_estimators=100,\n",
      "              n_jobs=0, num_parallel_tree=1, predictor='auto', random_state=0,\n",
      "              reg_alpha=0, reg_lambda=1, ...) AUC=0.7046  AUC-PR=0.1824\n",
      "split='db_agree_no_dups' dataset='NCATS' clf=SVC(probability=True) AUC=0.5805  AUC-PR=0.2885\n",
      "split='db_agree_no_dups' dataset='NCATS' clf=XGBClassifier(base_score=0.5, booster='gbtree', callbacks=None,\n",
      "              colsample_bylevel=1, colsample_bynode=1, colsample_bytree=1,\n",
      "              early_stopping_rounds=None, enable_categorical=False,\n",
      "              eval_metric=None, gamma=0, gpu_id=-1, grow_policy='depthwise',\n",
      "              importance_type=None, interaction_constraints='',\n",
      "              learning_rate=0.300000012, max_bin=256, max_cat_to_onehot=4,\n",
      "              max_delta_step=0, max_depth=6, max_leaves=0, min_child_weight=1,\n",
      "              missing=nan, monotone_constraints='()', n_estimators=100,\n",
      "              n_jobs=0, num_parallel_tree=1, predictor='auto', random_state=0,\n",
      "              reg_alpha=0, reg_lambda=1, ...) AUC=0.5703  AUC-PR=0.2791\n"
     ]
    }
   ],
   "source": [
    "for split in ['db_no_agree_no_dups', 'db_agree_no_dups']:\n",
    "    for dataset in ['ChEMBL', 'DrugBank', 'NCATS']:\n",
    "        x_train, y_train = create_mol2vec_data(f'./split/{split}/{dataset}/train.csv')\n",
    "        x_train.columns = [s.replace('[', '_').replace(']', '_') for s in x_train.columns]\n",
    "\n",
    "        x_test, y_test = create_mol2vec_data(f'./split/{split}/{dataset}/test.csv')\n",
    "        x_test.columns = [s.replace(',', '_') for s in x_test.columns]\n",
    "        \n",
    "        for clf in [SVC(probability=True), XGBClassifier()]:\n",
    "            clf.fit(x_train, y_train)\n",
    "\n",
    "            preds = clf.predict_proba(x_test)[:, 1]\n",
    "\n",
    "            auc = round(roc_auc_score(y_test, preds), 4)\n",
    "            auc_pr = round(average_precision_score(y_test, preds), 4)\n",
    "\n",
    "            print(f'{split=} {dataset=} {clf=} AUC={auc}  AUC-PR={auc_pr}')"
   ]
  },
  {
   "cell_type": "markdown",
   "metadata": {},
   "source": [
    "# Train with All Features"
   ]
  },
  {
   "cell_type": "code",
   "execution_count": null,
   "metadata": {},
   "outputs": [
    {
     "name": "stderr",
     "output_type": "stream",
     "text": [
      "100%|█████████████████████████████████████████████████████████████████████████████████████████████████████████████████████████████████████████████████████████████████████████████████████████████████| 3779/3779 [00:03<00:00, 1088.79it/s]\n"
     ]
    },
    {
     "name": "stdout",
     "output_type": "stream",
     "text": [
      "extracting RDKitDescriptors\n",
      "extracting Mol2VecFingerprint\n",
      "extracting CircularFingerprint_radius_4\n"
     ]
    },
    {
     "name": "stderr",
     "output_type": "stream",
     "text": [
      "100%|█████████████████████████████████████████████████████████████████████████████████████████████████████████████████████████████████████████████████████████████████████████████████████████████████| 2565/2565 [00:02<00:00, 1094.29it/s]\n"
     ]
    },
    {
     "name": "stdout",
     "output_type": "stream",
     "text": [
      "extracting RDKitDescriptors\n",
      "extracting Mol2VecFingerprint\n",
      "extracting CircularFingerprint_radius_4\n",
      "split='db_no_agree_no_dups' dataset='ChEMBL' clf=XGBClassifier(base_score=0.5, booster='gbtree', callbacks=None,\n",
      "              colsample_bylevel=1, colsample_bynode=1, colsample_bytree=1,\n",
      "              early_stopping_rounds=None, enable_categorical=False,\n",
      "              eval_metric=None, gamma=0, gpu_id=-1, grow_policy='depthwise',\n",
      "              importance_type=None, interaction_constraints='',\n",
      "              learning_rate=0.300000012, max_bin=256, max_cat_to_onehot=4,\n",
      "              max_delta_step=0, max_depth=6, max_leaves=0, min_child_weight=1,\n",
      "              missing=nan, monotone_constraints='()', n_estimators=100,\n",
      "              n_jobs=0, num_parallel_tree=1, predictor='auto', random_state=0,\n",
      "              reg_alpha=0, reg_lambda=1, ...) AUC=0.4732  AUC-PR=0.225\n"
     ]
    },
    {
     "name": "stderr",
     "output_type": "stream",
     "text": [
      "100%|█████████████████████████████████████████████████████████████████████████████████████████████████████████████████████████████████████████████████████████████████████████████████████████████████| 3998/3998 [00:03<00:00, 1062.93it/s]\n"
     ]
    },
    {
     "name": "stdout",
     "output_type": "stream",
     "text": [
      "extracting RDKitDescriptors\n",
      "extracting Mol2VecFingerprint\n",
      "extracting CircularFingerprint_radius_4\n"
     ]
    },
    {
     "name": "stderr",
     "output_type": "stream",
     "text": [
      "100%|█████████████████████████████████████████████████████████████████████████████████████████████████████████████████████████████████████████████████████████████████████████████████████████████████| 2431/2431 [00:02<00:00, 1088.01it/s]\n"
     ]
    },
    {
     "name": "stdout",
     "output_type": "stream",
     "text": [
      "extracting RDKitDescriptors\n",
      "extracting Mol2VecFingerprint\n",
      "extracting CircularFingerprint_radius_4\n",
      "split='db_no_agree_no_dups' dataset='DrugBank' clf=XGBClassifier(base_score=0.5, booster='gbtree', callbacks=None,\n",
      "              colsample_bylevel=1, colsample_bynode=1, colsample_bytree=1,\n",
      "              early_stopping_rounds=None, enable_categorical=False,\n",
      "              eval_metric=None, gamma=0, gpu_id=-1, grow_policy='depthwise',\n",
      "              importance_type=None, interaction_constraints='',\n",
      "              learning_rate=0.300000012, max_bin=256, max_cat_to_onehot=4,\n",
      "              max_delta_step=0, max_depth=6, max_leaves=0, min_child_weight=1,\n",
      "              missing=nan, monotone_constraints='()', n_estimators=100,\n",
      "              n_jobs=0, num_parallel_tree=1, predictor='auto', random_state=0,\n",
      "              reg_alpha=0, reg_lambda=1, ...) AUC=0.5044  AUC-PR=0.0885\n"
     ]
    },
    {
     "name": "stderr",
     "output_type": "stream",
     "text": [
      "100%|█████████████████████████████████████████████████████████████████████████████████████████████████████████████████████████████████████████████████████████████████████████████████████████████████| 2354/2354 [00:02<00:00, 1043.52it/s]\n"
     ]
    },
    {
     "name": "stdout",
     "output_type": "stream",
     "text": [
      "extracting RDKitDescriptors\n",
      "extracting Mol2VecFingerprint\n",
      "extracting CircularFingerprint_radius_4\n"
     ]
    },
    {
     "name": "stderr",
     "output_type": "stream",
     "text": [
      "100%|█████████████████████████████████████████████████████████████████████████████████████████████████████████████████████████████████████████████████████████████████████████████████████████████████| 4013/4013 [00:03<00:00, 1089.19it/s]\n"
     ]
    },
    {
     "name": "stdout",
     "output_type": "stream",
     "text": [
      "extracting RDKitDescriptors\n",
      "extracting Mol2VecFingerprint\n",
      "extracting CircularFingerprint_radius_4\n",
      "split='db_no_agree_no_dups' dataset='NCATS' clf=XGBClassifier(base_score=0.5, booster='gbtree', callbacks=None,\n",
      "              colsample_bylevel=1, colsample_bynode=1, colsample_bytree=1,\n",
      "              early_stopping_rounds=None, enable_categorical=False,\n",
      "              eval_metric=None, gamma=0, gpu_id=-1, grow_policy='depthwise',\n",
      "              importance_type=None, interaction_constraints='',\n",
      "              learning_rate=0.300000012, max_bin=256, max_cat_to_onehot=4,\n",
      "              max_delta_step=0, max_depth=6, max_leaves=0, min_child_weight=1,\n",
      "              missing=nan, monotone_constraints='()', n_estimators=100,\n",
      "              n_jobs=0, num_parallel_tree=1, predictor='auto', random_state=0,\n",
      "              reg_alpha=0, reg_lambda=1, ...) AUC=0.4869  AUC-PR=0.2581\n"
     ]
    },
    {
     "name": "stderr",
     "output_type": "stream",
     "text": [
      "100%|█████████████████████████████████████████████████████████████████████████████████████████████████████████████████████████████████████████████████████████████████████████████████████████████████| 3779/3779 [00:03<00:00, 1094.02it/s]\n"
     ]
    }
   ],
   "source": [
    "for split in ['db_no_agree_no_dups', 'db_agree_no_dups']:\n",
    "    for dataset in ['ChEMBL', 'DrugBank', 'NCATS']:\n",
    "        x_train, y_train = create_all_data(f'./split/{split}/{dataset}/train.csv')\n",
    "        x_train.columns = [s.replace('[', '_').replace(']', '_') for s in x_train.columns]\n",
    "#         x_train.fillna(0, inplace=True)\n",
    "\n",
    "        x_test, y_test = create_all_data(f'./split/{split}/{dataset}/test.csv')\n",
    "        x_test.columns = [s.replace(',', '_') for s in x_test.columns]\n",
    "#         x_test.fillna(0, inplace=True)\n",
    "        \n",
    "        for clf in [XGBClassifier()]:\n",
    "            clf.fit(x_train, y_train)\n",
    "\n",
    "            preds = clf.predict_proba(x_test)[:, 1]\n",
    "\n",
    "            auc = round(roc_auc_score(y_test, preds), 4)\n",
    "            auc_pr = round(average_precision_score(y_test, preds), 4)\n",
    "\n",
    "            print(f'{split=} {dataset=} {clf=} AUC={auc}  AUC-PR={auc_pr}')"
   ]
  }
 ],
 "metadata": {
  "kernelspec": {
   "display_name": "Python 3 (ipykernel)",
   "language": "python",
   "name": "python3"
  },
  "language_info": {
   "codemirror_mode": {
    "name": "ipython",
    "version": 3
   },
   "file_extension": ".py",
   "mimetype": "text/x-python",
   "name": "python",
   "nbconvert_exporter": "python",
   "pygments_lexer": "ipython3",
   "version": "3.11.3"
  }
 },
 "nbformat": 4,
 "nbformat_minor": 4
}
