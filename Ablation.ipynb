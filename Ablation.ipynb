{
 "cells": [
  {
   "cell_type": "code",
   "execution_count": 5,
   "id": "2f5281a1",
   "metadata": {},
   "outputs": [],
   "source": [
    "from sklearn.metrics import average_precision_score, roc_auc_score\n",
    "import wandb\n",
    "\n",
    "from datasets import load_dataset\n",
    "import evaluate\n",
    "from transformers import AutoTokenizer, AutoModelForSequenceClassification\n",
    "from transformers import TrainingArguments, Trainer, IntervalStrategy\n",
    "\n",
    "import pandas as pd\n",
    "import numpy as np\n",
    "\n",
    "import torch\n",
    "from torch.utils.data import DataLoader\n",
    "from torch import nn\n",
    "import torch.nn.functional as F\n",
    "from tqdm.auto import tqdm"
   ]
  },
  {
   "cell_type": "code",
   "execution_count": 6,
   "id": "cc61518a",
   "metadata": {},
   "outputs": [],
   "source": [
    "def tokenize_function(examples):\n",
    "    return tokenizer(examples[\"smiles\"], padding=\"max_length\", truncation=True, max_length=300)"
   ]
  },
  {
   "cell_type": "code",
   "execution_count": 11,
   "id": "9bbee0fc",
   "metadata": {},
   "outputs": [
    {
     "data": {
      "text/plain": [
       "'results/db_no_agree_no_dups/NCATS/seyonec/PubChem10M_SMILES_BPE_450k/checkpoint-550/'"
      ]
     },
     "execution_count": 11,
     "metadata": {},
     "output_type": "execute_result"
    }
   ],
   "source": [
    "pretrained_path"
   ]
  },
  {
   "cell_type": "code",
   "execution_count": 14,
   "id": "015bfa04",
   "metadata": {
    "scrolled": false
   },
   "outputs": [
    {
     "name": "stderr",
     "output_type": "stream",
     "text": [
      "Using custom data configuration default-74e83418e4d2c9a0\n",
      "Found cached dataset csv (/home/eyal/.cache/huggingface/datasets/csv/default-74e83418e4d2c9a0/0.0.0/6b34fb8fcf56f7c8ba51dc895bfa2bfbe43546f190a60fcf74bb5e8afdcc2317)\n"
     ]
    },
    {
     "data": {
      "application/vnd.jupyter.widget-view+json": {
       "model_id": "2091a8d4081f4ddd8c2a936be3fd4980",
       "version_major": 2,
       "version_minor": 0
      },
      "text/plain": [
       "  0%|          | 0/3 [00:00<?, ?it/s]"
      ]
     },
     "metadata": {},
     "output_type": "display_data"
    },
    {
     "name": "stderr",
     "output_type": "stream",
     "text": [
      "Loading cached processed dataset at /home/eyal/.cache/huggingface/datasets/csv/default-74e83418e4d2c9a0/0.0.0/6b34fb8fcf56f7c8ba51dc895bfa2bfbe43546f190a60fcf74bb5e8afdcc2317/cache-5e1041380be4dd2c.arrow\n",
      "Loading cached processed dataset at /home/eyal/.cache/huggingface/datasets/csv/default-74e83418e4d2c9a0/0.0.0/6b34fb8fcf56f7c8ba51dc895bfa2bfbe43546f190a60fcf74bb5e8afdcc2317/cache-71a8b67d9d9df64d.arrow\n",
      "Loading cached processed dataset at /home/eyal/.cache/huggingface/datasets/csv/default-74e83418e4d2c9a0/0.0.0/6b34fb8fcf56f7c8ba51dc895bfa2bfbe43546f190a60fcf74bb5e8afdcc2317/cache-b8e66c7c5950463c.arrow\n"
     ]
    },
    {
     "data": {
      "application/vnd.jupyter.widget-view+json": {
       "model_id": "ee941d88578846cabcc6ad1acaa92f7e",
       "version_major": 2,
       "version_minor": 0
      },
      "text/plain": [
       "  0%|          | 0/2431 [00:00<?, ?it/s]"
      ]
     },
     "metadata": {},
     "output_type": "display_data"
    },
    {
     "name": "stdout",
     "output_type": "stream",
     "text": [
      "[('ifenprodil', 0.9928, 1), ('fendiline', 0.9911, 1), ('flubendazole', 0.9839, 1), ('nefazodone', 0.9827, 1), ('etifoxine', 0.98, 1), ('cefadroxil', 0.9788, 1), ('eprazinone', 0.9745, 1), ('tolcapone', 0.9714, 1), ('floctafenine', 0.9689, 1), ('benzbromarone', 0.9649, 1), ('hetacillin', 0.9592, 1), ('amlexanox', 0.9567, 1), ('thioridazine', 0.9548, 1), ('alosetron', 0.9519, 1), ('sertindole', 0.948, 1), ('hexoprenaline', 0.9384, 1), ('oxeladin', 0.9374, 1), ('zotepine', 0.9302, 1), ('cianidanol', 0.9211, 1), ('clobutinol', 0.8894, 1), ('acetohexamide', 0.8874, 1), ('acetarsol', 0.865, 1), ('thalidomide', 0.8593, 1), ('ranitidine', 0.7762, 1), ('hexachlorophene', 0.7481, 1), ('melphalan flufenamide', 0.7366, 1), ('viloxazine', 0.7204, 1), ('clioquinol', 0.6854, 1), ('methyclothiazide', 0.5722, 1), ('dexrazoxane', 0.497, 1), ('haloprogin', 0.4826, 1), ('testosterone propionate', 0.452, 1), ('lithium hydroxide', 0.4355, 1), ('hydroflumethiazide', 0.4113, 1), ('medrogestone', 0.395, 1), ('chlophedianol', 0.3765, 1), ('formestane', 0.3668, 1), ('carmofur', 0.3611, 1), ('eflornithine', 0.2673, 1), ('halcinonide', 0.1973, 1), ('gemeprost', 0.1112, 1), ('boceprevir', 0.0363, 1)]\n",
      "Count: 42\n",
      "Correct: 29\n",
      "Accuracy: 0.6904761904761905\n"
     ]
    },
    {
     "name": "stderr",
     "output_type": "stream",
     "text": [
      "Using custom data configuration default-26ef806f20143910\n",
      "Found cached dataset csv (/home/eyal/.cache/huggingface/datasets/csv/default-26ef806f20143910/0.0.0/6b34fb8fcf56f7c8ba51dc895bfa2bfbe43546f190a60fcf74bb5e8afdcc2317)\n"
     ]
    },
    {
     "data": {
      "application/vnd.jupyter.widget-view+json": {
       "model_id": "32d43b5e89874c0391e521154487ca62",
       "version_major": 2,
       "version_minor": 0
      },
      "text/plain": [
       "  0%|          | 0/3 [00:00<?, ?it/s]"
      ]
     },
     "metadata": {},
     "output_type": "display_data"
    },
    {
     "name": "stderr",
     "output_type": "stream",
     "text": [
      "Loading cached processed dataset at /home/eyal/.cache/huggingface/datasets/csv/default-26ef806f20143910/0.0.0/6b34fb8fcf56f7c8ba51dc895bfa2bfbe43546f190a60fcf74bb5e8afdcc2317/cache-45bf09ea091143ac.arrow\n",
      "Loading cached processed dataset at /home/eyal/.cache/huggingface/datasets/csv/default-26ef806f20143910/0.0.0/6b34fb8fcf56f7c8ba51dc895bfa2bfbe43546f190a60fcf74bb5e8afdcc2317/cache-d9249b61164f4062.arrow\n",
      "Loading cached processed dataset at /home/eyal/.cache/huggingface/datasets/csv/default-26ef806f20143910/0.0.0/6b34fb8fcf56f7c8ba51dc895bfa2bfbe43546f190a60fcf74bb5e8afdcc2317/cache-f78f2780c730b598.arrow\n"
     ]
    },
    {
     "data": {
      "application/vnd.jupyter.widget-view+json": {
       "model_id": "f9fb6edc31b048fe847ff83669c07296",
       "version_major": 2,
       "version_minor": 0
      },
      "text/plain": [
       "  0%|          | 0/2565 [00:00<?, ?it/s]"
      ]
     },
     "metadata": {},
     "output_type": "display_data"
    },
    {
     "name": "stdout",
     "output_type": "stream",
     "text": [
      "[('betamethasone benzoate', 0.9872, 1), ('tubocurarine', 0.9841, 1), ('rescinnamine', 0.9829, 1), ('cianidanol', 0.9828, 1), ('metocurine', 0.9818, 1), ('deserpidine', 0.9808, 1), ('dexamethasone acetate', 0.9806, 1), ('phenprocoumon', 0.9779, 1), ('paramethasone acetate', 0.9772, 1), ('triamcinolone', 0.9763, 1), ('hetacillin', 0.9716, 1), ('deslanoside', 0.9705, 1), ('novobiocin', 0.9675, 1), ('trimetrexate', 0.9671, 1), ('acetyldigitoxin', 0.9668, 1), ('trimethaphan', 0.9645, 1), ('erythromycin estolate', 0.9641, 1), ('clometacin', 0.9638, 1), ('digitoxin', 0.9623, 1), ('doxacurium', 0.9613, 1), ('prednisolone tebutate', 0.9595, 1), ('masoprocol', 0.9573, 1), ('meprednisone', 0.9549, 1), ('cyclothiazide', 0.9545, 1), ('fluprednisolone', 0.9541, 1), ('vincamine', 0.948, 1), ('troleandomycin', 0.9461, 1), ('fenoterol', 0.9397, 1), ('mazindol', 0.9392, 1), ('sulfaphenazole', 0.9384, 1), ('protokylol', 0.9339, 1), ('fenclofenac', 0.9305, 1), ('aminoglutethimide', 0.9295, 1), ('isoetharine', 0.9248, 1), ('medrysone', 0.9242, 1), ('dienestrol', 0.9229, 1), ('spectinomycin', 0.9226, 1), ('rimonabant', 0.9221, 1), ('pipecuronium', 0.914, 1), ('lumiracoxib', 0.9036, 1), ('phenindione', 0.899, 1), ('hydrocortisone cypionate', 0.8988, 1), ('hydrocortamate', 0.8978, 1), ('pentobarbital', 0.8921, 1), ('tocainide', 0.8836, 1), ('ceforanide', 0.8828, 1), ('cloxacillin', 0.8788, 1), ('quinestrol', 0.8767, 1), ('mezlocillin', 0.8757, 1), ('diethylstilbestrol', 0.8727, 1), ('arbutamine', 0.8653, 1), ('phenyl aminosalicylate', 0.8652, 1), ('phenylbutazone', 0.861, 1), ('paramethadione', 0.8602, 1), ('sulfabenzamide', 0.857, 1), ('cyclacillin', 0.8567, 1), ('niclosamide', 0.8529, 1), ('thiamylal', 0.849, 1), ('amodiaquine', 0.8449, 1), ('monobenzone', 0.8441, 1), ('proxibarbal', 0.8436, 1), ('pyrvinium', 0.839, 1), ('sertindole', 0.8374, 1), ('stanozolol', 0.8347, 1), ('netilmicin', 0.834, 1), ('amprenavir', 0.8314, 1), ('cefonicid', 0.8313, 1), ('benzyl benzoate', 0.8269, 1), ('haloprogin', 0.8227, 1), ('indecainide', 0.8184, 1), ('sulfisoxazole', 0.8135, 1), ('mephentermine', 0.8089, 1), ('azlocillin', 0.8043, 1), ('antazoline', 0.7811, 1), ('flunitrazepam', 0.7617, 1), ('enoxacin', 0.7459, 1), ('phenacemide', 0.7394, 1), ('thiabendazole', 0.7385, 1), ('anisindione', 0.7336, 1), ('buclizine', 0.7192, 1), ('clobutinol', 0.7165, 1), ('testolactone', 0.714, 1), ('isopropamide', 0.6856, 1), ('antrafenine', 0.6833, 1), ('hexocyclium', 0.682, 1), ('sulfacarbamide', 0.6639, 1), ('trioxsalen', 0.651, 1), ('dezocine', 0.6429, 1), ('zalcitabine', 0.6337, 1), ('procyclidine', 0.6237, 1), ('lomefloxacin', 0.6226, 1), ('thioridazine', 0.6199, 1), ('benzthiazide', 0.6052, 1), ('mebutamate', 0.6012, 1), ('testosterone propionate', 0.5995, 1), ('bromodiphenhydramine', 0.5979, 1), ('oxyphenonium', 0.5974, 1), ('cycrimine', 0.5957, 1), ('dinoprost', 0.5939, 1), ('nalidixic acid', 0.5914, 1), ('sulfathiazole', 0.5708, 1), ('diphenylpyraline', 0.567, 1), ('propiomazine', 0.557, 1), ('trichlormethiazide', 0.5545, 1), ('tripelennamine', 0.5524, 1), ('desoxycorticosterone acetate', 0.5518, 1), ('sulfapyridine', 0.5475, 1), ('flosequinan', 0.5427, 1), ('vidarabine', 0.5382, 1), ('mesoridazine', 0.5291, 1), ('methdilazine', 0.5189, 1), ('isosorbide', 0.4919, 1), ('moxisylyte', 0.486, 1), ('betazole', 0.4833, 1), ('sulfoxone', 0.4642, 1), ('histamine', 0.4621, 1), ('levallorphan', 0.4598, 1), ('spirapril', 0.439, 1), ('norethynodrel', 0.4366, 1), ('minaprine', 0.4363, 1), ('latamoxef', 0.4344, 1), ('tolazoline', 0.4317, 1), ('chloroxine', 0.3976, 1), ('sulfamethazine', 0.3908, 1), ('procaine', 0.3897, 1), ('sulfamethizole', 0.383, 1), ('oxamniquine', 0.3828, 1), ('cinepazide', 0.3776, 1), ('propanidid', 0.3753, 1), ('terodiline hydrochloride', 0.3704, 1), ('cyclizine', 0.3664, 1), ('cefamandole nafate', 0.3549, 1), ('clioquinol', 0.3478, 1), ('perhexiline', 0.3434, 1), ('sulfadoxine', 0.3391, 1), ('dapiprazole', 0.3387, 1), ('diethylcarbamazine', 0.336, 1), ('sulfamerazine', 0.3335, 1), ('metronidazole hydrochloride', 0.3158, 1), ('pentolinium', 0.3109, 1), ('dyclonine', 0.3108, 1), ('oxprenolol', 0.3069, 1), ('probucol', 0.2988, 1), ('triflupromazine', 0.2987, 1), ('guanadrel', 0.2962, 1), ('chlophedianol', 0.2921, 1), ('methoxyflurane', 0.2912, 1), ('pipobroman', 0.2734, 1), ('methantheline', 0.2703, 1), ('halofantrine', 0.2687, 1), ('uracil mustard', 0.2591, 1), ('chloroform', 0.2555, 1), ('zinc sulfate', 0.2527, 1), ('etidocaine', 0.251, 1), ('cefmenoxime', 0.2505, 1), ('polythiazide', 0.247, 1), ('decamethonium', 0.2442, 1), ('abametapir', 0.2385, 1), ('potassium perchlorate', 0.2271, 1), ('demecarium', 0.2267, 1), ('sulfacytine', 0.2227, 1), ('guanethidine', 0.2218, 1), ('potassium lactate', 0.2198, 1), ('promazine', 0.2188, 1), ('cefotiam', 0.2181, 1), ('mequinol', 0.2123, 1), ('gallamine triethiodide', 0.2112, 1), ('sodium carbonate', 0.2087, 1), ('propoxycaine', 0.2004, 1), ('iofetamine', 0.1928, 1), ('pyrithione', 0.1928, 1), ('clofibrate', 0.1918, 1), ('lapyrium', 0.1824, 1), ('dibucaine hydrochloride', 0.1658, 1), ('fluphenazine enanthate', 0.1629, 1), ('cefoperazone', 0.1625, 1), ('sodium phosphate p 32', 0.1596, 1), ('pargyline', 0.1559, 1), ('tyropanoic acid', 0.1542, 1), ('perflexane', 0.1477, 1), ('cetyl alcohol', 0.1466, 1), ('cloforex', 0.1394, 1), ('cefpiramide', 0.1376, 1), ('cephaloglycin', 0.1187, 1), ('selenomethionine', 0.1186, 1), ('azatadine', 0.1065, 1), ('chloroquine hydrochloride', 0.106, 1), ('clascoterone', 0.1038, 1), ('fospropofol', 0.1024, 1), ('sulfadimethoxine', 0.1007, 1), ('bacampicillin', 0.0965, 1), ('propyliodone', 0.0958, 1), ('cysteine hydrochloride', 0.091, 1), ('levobupivacaine', 0.0899, 1), ('chloramphenicol palmitate', 0.0858, 1), ('iophendylate', 0.0842, 1), ('iocetamic acid', 0.0836, 1), ('rose bengal', 0.0762, 1), ('metrizoic acid', 0.0729, 1), ('thiothixene hydrochloride', 0.0663, 1), ('anisotropine methylbromide', 0.0646, 1), ('cyclizine lactate', 0.0634, 1), ('bethanidine', 0.0599, 1), ('xylose', 0.0527, 1), ('diltiazem malate', 0.0497, 1), ('levobetaxolol', 0.0448, 1), ('pitavastatin sodium', 0.0441, 1), ('pyrilamine maleate', 0.0438, 1), ('tenapanor', 0.042, 1), ('metoprolol fumarate', 0.042, 1), ('pinacidil', 0.0396, 1), ('hetacillin potassium', 0.036, 1), ('meglumine', 0.0322, 1), ('tegaserod maleate', 0.0288, 1), ('erythromycin gluceptate', 0.0285, 1), ('dinoprost tromethamine', 0.0253, 1), ('betamethasone', 0.0245, 1), ('dilevalol hydrochloride', 0.0244, 1), ('chlortetracycline hydrochloride', 0.019, 1), ('tetracycline', 0.0164, 1)]\n",
      "Count: 220\n",
      "Correct: 111\n",
      "Accuracy: 0.5045454545454545\n"
     ]
    },
    {
     "name": "stderr",
     "output_type": "stream",
     "text": [
      "Using custom data configuration default-91940da3d7934178\n",
      "Found cached dataset csv (/home/eyal/.cache/huggingface/datasets/csv/default-91940da3d7934178/0.0.0/6b34fb8fcf56f7c8ba51dc895bfa2bfbe43546f190a60fcf74bb5e8afdcc2317)\n"
     ]
    },
    {
     "data": {
      "application/vnd.jupyter.widget-view+json": {
       "model_id": "6379e247f61f419997ad3dfab3bc1b1c",
       "version_major": 2,
       "version_minor": 0
      },
      "text/plain": [
       "  0%|          | 0/3 [00:00<?, ?it/s]"
      ]
     },
     "metadata": {},
     "output_type": "display_data"
    },
    {
     "name": "stderr",
     "output_type": "stream",
     "text": [
      "Loading cached processed dataset at /home/eyal/.cache/huggingface/datasets/csv/default-91940da3d7934178/0.0.0/6b34fb8fcf56f7c8ba51dc895bfa2bfbe43546f190a60fcf74bb5e8afdcc2317/cache-9783c284089d6969.arrow\n",
      "Loading cached processed dataset at /home/eyal/.cache/huggingface/datasets/csv/default-91940da3d7934178/0.0.0/6b34fb8fcf56f7c8ba51dc895bfa2bfbe43546f190a60fcf74bb5e8afdcc2317/cache-a2e28bc4b6f3595b.arrow\n",
      "Loading cached processed dataset at /home/eyal/.cache/huggingface/datasets/csv/default-91940da3d7934178/0.0.0/6b34fb8fcf56f7c8ba51dc895bfa2bfbe43546f190a60fcf74bb5e8afdcc2317/cache-3a2d51c462208001.arrow\n"
     ]
    },
    {
     "data": {
      "application/vnd.jupyter.widget-view+json": {
       "model_id": "49ad8bec76c8491aa8aa5d79430936bf",
       "version_major": 2,
       "version_minor": 0
      },
      "text/plain": [
       "  0%|          | 0/4013 [00:00<?, ?it/s]"
      ]
     },
     "metadata": {},
     "output_type": "display_data"
    },
    {
     "name": "stdout",
     "output_type": "stream",
     "text": [
      "[('trimetrexate', 0.9968, 1), ('protokylol', 0.9957, 1), ('niclosamide', 0.9956, 1), ('mazindol', 0.9954, 1), ('masoprocol', 0.995, 1), ('cyclacillin', 0.9948, 1), ('stanozolol', 0.9946, 1), ('procyclidine', 0.9941, 1), ('amodiaquine', 0.994, 1), ('pyrvinium', 0.9938, 1), ('thiabendazole', 0.9935, 1), ('phenylbutazone', 0.9934, 1), ('spectinomycin', 0.9934, 1), ('triamcinolone', 0.9932, 1), ('buclizine', 0.993, 1), ('phenprocoumon', 0.9929, 1), ('cycrimine', 0.9922, 1), ('trimethaphan', 0.9914, 1), ('phenindione', 0.9914, 1), ('metocurine', 0.991, 1), ('cloxacillin', 0.9909, 1), ('mezlocillin', 0.9907, 1), ('carbenicillin', 0.9904, 1), ('anisindione', 0.9898, 1), ('dapiprazole', 0.9894, 1), ('phenyl aminosalicylate', 0.9893, 1), ('deserpidine', 0.9887, 1), ('noscapine', 0.9883, 1), ('methdilazine', 0.988, 1), ('quinestrol', 0.9875, 1), ('fluprednisolone', 0.987, 1), ('sulfamethazine', 0.9868, 1), ('mesoridazine', 0.9865, 1), ('medrysone', 0.986, 1), ('sulfabenzamide', 0.9858, 1), ('aminoglutethimide', 0.9857, 1), ('sulfisoxazole', 0.9856, 1), ('sulfapyridine', 0.984, 1), ('cefonicid', 0.9837, 1), ('sulfadoxine', 0.9837, 1), ('digitoxin', 0.9836, 1), ('trichlormethiazide', 0.9829, 1), ('acetyldigitoxin', 0.9822, 1), ('dextrothyroxine', 0.9821, 1), ('monobenzone', 0.9816, 1), ('sulfamerazine', 0.9814, 1), ('bromodiphenhydramine', 0.981, 1), ('enoxacin', 0.9809, 1), ('biperiden hydrochloride', 0.9808, 1), ('cyclothiazide', 0.9806, 1), ('deslanoside', 0.9803, 1), ('acetohexamide', 0.9801, 1), ('desoxycorticosterone acetate', 0.9793, 1), ('cefotiam', 0.9785, 1), ('testolactone', 0.977, 1), ('sulfoxone', 0.9767, 1), ('spirapril', 0.976, 1), ('benzyl benzoate', 0.9723, 1), ('sulfadimethoxine', 0.9722, 1), ('trioxsalen', 0.9649, 1), ('meprednisone', 0.9645, 1), ('sulfamethizole', 0.9645, 1), ('troleandomycin', 0.9642, 1), ('demecarium', 0.963, 1), ('sulfathiazole', 0.961, 1), ('sulfacytine', 0.9609, 1), ('propiomazine', 0.9579, 1), ('indecainide', 0.9551, 1), ('nylidrin', 0.954, 1), ('secobarbital', 0.9466, 1), ('nalidixic acid', 0.9446, 1), ('iodipamide', 0.9355, 1), ('flosequinan', 0.9324, 1), ('dezocine', 0.9308, 1), ('tocainide', 0.9294, 1), ('betrixaban', 0.9293, 1), ('bacampicillin', 0.9252, 1), ('methysergide', 0.9252, 1), ('tripelennamine', 0.9247, 1), ('propoxycaine', 0.9184, 1), ('oxprenolol', 0.9028, 1), ('acenocoumarol', 0.8999, 1), ('indacaterol', 0.8969, 1), ('pentolinium', 0.8957, 1), ('thiamylal', 0.8951, 1), ('ioxaglic acid', 0.8941, 1), ('paramethadione', 0.8923, 1), ('doripenem', 0.8905, 1), ('metipranolol', 0.8862, 1), ('levallorphan', 0.8813, 1), ('clofazimine', 0.8722, 1), ('ioxilan', 0.8631, 1), ('latamoxef', 0.8509, 1), ('ezogabine', 0.8469, 1), ('oftasceine', 0.8331, 1), ('proflavine', 0.8213, 1), ('halofantrine', 0.8036, 1), ('iotrolan', 0.7629, 1), ('triclosan', 0.7488, 1), ('pipradrol', 0.744, 1), ('pentetic acid', 0.7413, 1), ('norfloxacin', 0.7317, 1), ('butabarbital', 0.7283, 1), ('mephentermine', 0.7247, 1), ('phenylethyl resorcinol', 0.7166, 1), ('phthalylsulfathiazole', 0.7012, 1), ('guanadrel', 0.698, 1), ('tolazamide', 0.6902, 1), ('triflupromazine', 0.6786, 1), ('tolazoline', 0.6761, 1), ('isosorbide', 0.6584, 1), ('ioxaglate meglumine', 0.6547, 1), ('emedastine', 0.6533, 1), ('polythiazide', 0.6473, 1), ('betazole', 0.6436, 1), ('altretamine', 0.6392, 1), ('pirbuterol acetate', 0.6259, 1), ('promazine', 0.6236, 1), ('cefmetazole sodium', 0.6206, 1), ('metrizoic acid', 0.6162, 1), ('pirbuterol', 0.5921, 1), ('ceruletide', 0.5864, 1), ('cephaloglycin', 0.5763, 1), ('pipobroman', 0.5743, 1), ('ticarcillin', 0.562, 1), ('diethylcarbamazine', 0.5576, 1), ('tyropanoic acid', 0.5572, 1), ('isometheptene', 0.538, 1), ('propantheline', 0.5357, 1), ('cefamandole', 0.5263, 1), ('ceftibuten', 0.5076, 1), ('pentetate calcium trisodium', 0.4965, 1), ('mebutamate', 0.4909, 1), ('procaine', 0.4871, 1), ('guanabenz acetate', 0.4845, 1), ('oxamniquine', 0.4841, 1), ('dioxybenzone', 0.483, 1), ('guanethidine', 0.4747, 1), ('clofibrate', 0.4641, 1), ('hexetidine', 0.4613, 1), ('eprosartan', 0.4568, 1), ('salicylamide', 0.4476, 1), ('racemethionine', 0.441, 1), ('aminohippuric acid', 0.439, 1), ('alverine', 0.4321, 1), ('glycol salicylate', 0.4261, 1), ('thenyldiamine', 0.4258, 1), ('emedastine difumarate', 0.4149, 1), ('guanabenz', 0.4008, 1), ('methantheline', 0.3882, 1), ('idoxuridine', 0.3831, 1), ('edrophonium', 0.3733, 1), ('enflurane', 0.3703, 1), ('edrophonium chloride', 0.3524, 1), ('chlorpropamide', 0.3511, 1), ('methoxyflurane', 0.3509, 1), ('dipivefrin', 0.3341, 1), ('ambenonium', 0.3335, 1), ('methoxyphenamine', 0.317, 1), ('trichloroethylene', 0.3126, 1), ('technetium tc-99m etidronate', 0.3029, 1), ('ambenonium chloride', 0.3008, 1), ('etidocaine', 0.2977, 1), ('cefditoren', 0.2941, 1), ('methyl aminolevulinate', 0.2872, 1), ('tiludronate disodium', 0.2697, 1), ('indinavir', 0.2687, 1), ('trolamine', 0.2615, 1), ('domiphen', 0.2602, 1), ('sulfanilamide', 0.2602, 1), ('acrivastine', 0.2555, 1), ('penbutolol', 0.2555, 1), ('flumethasone', 0.2411, 1), ('1-palmitoyl-2-oleoyl-sn-glycero-3-(phospho-rac-(1-glycerol))', 0.2309, 1), ('perflexane', 0.2262, 1), ('tenapanor', 0.2228, 1), ('abametapir', 0.2156, 1), ('sodium borate', 0.2112, 1), ('lapyrium', 0.2045, 1), ('guaiacol', 0.2004, 1), ('mequinol', 0.1974, 1), ('cetalkonium', 0.187, 1), ('chloroform', 0.1868, 1), ('dihydroergocornine', 0.1859, 1), ('dyphylline', 0.1823, 1), ('fructose', 0.1809, 1), ('nandrolone decanoate', 0.1767, 1), ('pentaerythritol tetranitrate', 0.1734, 1), ('metaraminol', 0.172, 1), ('terpin hydrate', 0.1714, 1), ('cetyl alcohol', 0.1681, 1), ('iodoform', 0.1668, 1), ('ingenol mebutate', 0.1657, 1), ('levobupivacaine', 0.164, 1), ('azatadine', 0.1545, 1), ('pargyline', 0.1394, 1), ('methyl aminolevulinate hydrochloride', 0.137, 1), ('anethole', 0.1364, 1), ('pheneticillin', 0.1349, 1), ('propyliodone', 0.1284, 1), ('ethyl chloride', 0.128, 1), ('ethotoin', 0.1278, 1), ('betahistine', 0.1268, 1), ('selenomethionine', 0.1168, 1), ('sodium chromate cr-51', 0.1154, 1), ('mestranol', 0.1148, 1), ('rimexolone', 0.114, 1), ('teniposide', 0.1129, 1), ('bethanidine', 0.1114, 1), ('sodium phosphate p 32', 0.1077, 1), ('penbutolol sulfate', 0.1073, 1), ('levobetaxolol', 0.1042, 1), ('chloric acid', 0.1028, 1), ('didanosine', 0.0985, 1), ('boric acid', 0.0971, 1), ('dihydroergocristine', 0.095, 1), ('chloroxine', 0.0915, 1), ('lorcaserin', 0.0847, 1), ('stearic acid', 0.0818, 1), ('telbivudine', 0.0804, 1), ('dihydrotachysterol', 0.0791, 1), ('cinoxate', 0.0766, 1), ('daclatasvir dihydrochloride', 0.0743, 1), ('fluoxymesterone', 0.0726, 1), ('hydroflumethiazide', 0.07, 1), ('cholesterol', 0.0691, 1), ('dehydrocholic acid', 0.0633, 1), ('zirconium chloride hydroxide', 0.054, 1), ('stavudine', 0.0471, 1), ('methyclothiazide', 0.046, 1), ('pregnenolone', 0.0367, 1), ('boceprevir', 0.0335, 1), ('attapulgite', 0.0298, 1), ('amlexanox', 0.0063, 1)]\n",
      "Count: 234\n",
      "Correct: 131\n",
      "Accuracy: 0.5598290598290598\n"
     ]
    }
   ],
   "source": [
    "split_type = 'db_no_agree_no_dups'\n",
    "for dataset_name, checkpoint in [('DrugBank', 600), ('ChEMBL', 550), ('NCATS', 350)]:\n",
    "    pretrained_path = f'results/{split_type}/{dataset_name}/seyonec/PubChem10M_SMILES_BPE_450k/checkpoint-{checkpoint}/'\n",
    "    \n",
    "        \n",
    "    tokenizer = AutoTokenizer.from_pretrained(pretrained_path)\n",
    "    model = AutoModelForSequenceClassification.from_pretrained(pretrained_path, num_labels=2,\n",
    "                                                           id2label={0: 'Not Withdrawn', 1:'Withdrawn'},\n",
    "                                                           label2id={'Not Withdrawn': 0, 'Withdrawn': 1})\n",
    "    \n",
    "    dataset = load_dataset('csv', data_files={'train': f'split/{split_type}/{dataset_name}/train2.csv',\n",
    "                                          'validation': f'split/{split_type}/{dataset_name}/val.csv',\n",
    "                                          'test': f'split/{split_type}/{dataset_name}/test.csv',})\n",
    "    dataset = dataset.rename_column('withdrawn_class', 'labels').\\\n",
    "            remove_columns(['Unnamed: 0', 'index', 'length', 'inchikey', 'groups', 'source']).\\\n",
    "            with_format('torch')\n",
    "    dataset = dataset.map(tokenize_function, batched=True)\n",
    "    \n",
    "    preds = []\n",
    "    for row in tqdm(dataset['test']):\n",
    "        output = torch.softmax(model(row['input_ids'][None, ...]).logits, -1)\n",
    "        preds.append((row['name'], round(output[:, 1].item(), 4), row['labels'].item()))\n",
    "            \n",
    "    train = pd.read_csv(f'split/{split_type}/{dataset_name}/train.csv')\n",
    "    test = pd.read_csv(f'split/{split_type}/{dataset_name}/test.csv')\n",
    "    \n",
    "    # all the drugs in the test that occur in the train by name\n",
    "    no_agree = test[test.name.isin(train.name)]\n",
    "    # all the drugs that are with label=1 (i.e. in the train with 0)\n",
    "    pos_only = no_agree[no_agree['withdrawn_class'] == 1]\n",
    "    names = pos_only.name.tolist()\n",
    "    \n",
    "    # filter predictions to those only which we not agree on\n",
    "    no_agree_preds = sorted(list(filter(lambda x: x[0] in names, preds)), key=lambda x: x[1], reverse=True)\n",
    "    print(sorted(no_agree_preds, key=lambda x: x[1], reverse=True))\n",
    "\n",
    "    correct = list(filter(lambda x: x[1] >= 0.5, no_agree_preds))\n",
    "    \n",
    "    print(f'Count: {len(no_agree_preds)}')\n",
    "    print(f'Correct: {len(correct)}')\n",
    "    print(f'Accuracy: {len(correct) / len(no_agree_preds)}')"
   ]
  }
 ],
 "metadata": {
  "kernelspec": {
   "display_name": "Python 3 (ipykernel)",
   "language": "python",
   "name": "python3"
  },
  "language_info": {
   "codemirror_mode": {
    "name": "ipython",
    "version": 3
   },
   "file_extension": ".py",
   "mimetype": "text/x-python",
   "name": "python",
   "nbconvert_exporter": "python",
   "pygments_lexer": "ipython3",
   "version": "3.10.8"
  }
 },
 "nbformat": 4,
 "nbformat_minor": 5
}
