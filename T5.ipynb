{
 "cells": [
  {
   "cell_type": "code",
   "execution_count": 20,
   "id": "2f5281a1",
   "metadata": {},
   "outputs": [],
   "source": [
    "import os\n",
    "\n",
    "from sklearn.metrics import average_precision_score, roc_auc_score\n",
    "import wandb\n",
    "\n",
    "from datasets import load_dataset\n",
    "import evaluate\n",
    "from transformers import AutoTokenizer, AutoModelForSequenceClassification\n",
    "from transformers import TrainingArguments, Trainer, IntervalStrategy\n",
    "\n",
    "from transformers import T5ForConditionalGeneration\n",
    "from t5chem import T5ForProperty, SimpleTokenizer\n",
    "\n",
    "import pandas as pd\n",
    "import numpy as np\n",
    "\n",
    "import torch\n",
    "from torch.utils.data import DataLoader\n",
    "from torch import nn\n",
    "import torch.nn.functional as F\n"
   ]
  },
  {
   "cell_type": "code",
   "execution_count": 2,
   "id": "f3fae6b0",
   "metadata": {},
   "outputs": [],
   "source": [
    "auc = evaluate.load(\"roc_auc\")\n",
    "accuracy = evaluate.load(\"accuracy\")\n",
    "metric = evaluate.load(\"accuracy\")\n",
    "f1 = evaluate.load(\"f1\")\n",
    "precison = evaluate.load(\"precision\")\n",
    "recall = evaluate.load(\"recall\")"
   ]
  },
  {
   "cell_type": "code",
   "execution_count": 3,
   "id": "25fe51ee",
   "metadata": {},
   "outputs": [],
   "source": [
    "pretrain_path = \"/home/eyal/Desktop/University/Research/DeepWithdrawn/models/pretrain/simple/\"\n",
    "split_type = 'db_agree_no_dups'\n",
    "dataset_name = 'NCATS'"
   ]
  },
  {
   "cell_type": "code",
   "execution_count": 45,
   "id": "2a7a5064",
   "metadata": {},
   "outputs": [],
   "source": [
    "model = T5ForProperty.from_pretrained(pretrain_path, num_labels=2,\n",
    "                                      id2label={0: 'Not Withdrawn', 1:'Withdrawn'},\n",
    "                                      label2id={'Not Withdrawn': 0, 'Withdrawn': 1})  # for non-seq2seq task"
   ]
  },
  {
   "cell_type": "code",
   "execution_count": 46,
   "id": "349c22b9",
   "metadata": {},
   "outputs": [],
   "source": [
    "tokenizer = SimpleTokenizer(vocab_file=os.path.join(pretrain_path, 'vocab.pt'))"
   ]
  },
  {
   "cell_type": "code",
   "execution_count": 47,
   "id": "fe48c7fc",
   "metadata": {},
   "outputs": [
    {
     "data": {
      "text/plain": [
       "T5ForProperty(\n",
       "  (shared): Embedding(100, 256)\n",
       "  (encoder): T5Stack(\n",
       "    (embed_tokens): Embedding(100, 256)\n",
       "    (block): ModuleList(\n",
       "      (0): T5Block(\n",
       "        (layer): ModuleList(\n",
       "          (0): T5LayerSelfAttention(\n",
       "            (SelfAttention): T5Attention(\n",
       "              (q): Linear(in_features=256, out_features=512, bias=False)\n",
       "              (k): Linear(in_features=256, out_features=512, bias=False)\n",
       "              (v): Linear(in_features=256, out_features=512, bias=False)\n",
       "              (o): Linear(in_features=512, out_features=256, bias=False)\n",
       "              (relative_attention_bias): Embedding(32, 8)\n",
       "            )\n",
       "            (layer_norm): T5LayerNorm()\n",
       "            (dropout): Dropout(p=0.1, inplace=False)\n",
       "          )\n",
       "          (1): T5LayerFF(\n",
       "            (DenseReluDense): T5DenseReluDense(\n",
       "              (wi): Linear(in_features=256, out_features=2048, bias=False)\n",
       "              (wo): Linear(in_features=2048, out_features=256, bias=False)\n",
       "              (dropout): Dropout(p=0.1, inplace=False)\n",
       "            )\n",
       "            (layer_norm): T5LayerNorm()\n",
       "            (dropout): Dropout(p=0.1, inplace=False)\n",
       "          )\n",
       "        )\n",
       "      )\n",
       "      (1): T5Block(\n",
       "        (layer): ModuleList(\n",
       "          (0): T5LayerSelfAttention(\n",
       "            (SelfAttention): T5Attention(\n",
       "              (q): Linear(in_features=256, out_features=512, bias=False)\n",
       "              (k): Linear(in_features=256, out_features=512, bias=False)\n",
       "              (v): Linear(in_features=256, out_features=512, bias=False)\n",
       "              (o): Linear(in_features=512, out_features=256, bias=False)\n",
       "            )\n",
       "            (layer_norm): T5LayerNorm()\n",
       "            (dropout): Dropout(p=0.1, inplace=False)\n",
       "          )\n",
       "          (1): T5LayerFF(\n",
       "            (DenseReluDense): T5DenseReluDense(\n",
       "              (wi): Linear(in_features=256, out_features=2048, bias=False)\n",
       "              (wo): Linear(in_features=2048, out_features=256, bias=False)\n",
       "              (dropout): Dropout(p=0.1, inplace=False)\n",
       "            )\n",
       "            (layer_norm): T5LayerNorm()\n",
       "            (dropout): Dropout(p=0.1, inplace=False)\n",
       "          )\n",
       "        )\n",
       "      )\n",
       "      (2): T5Block(\n",
       "        (layer): ModuleList(\n",
       "          (0): T5LayerSelfAttention(\n",
       "            (SelfAttention): T5Attention(\n",
       "              (q): Linear(in_features=256, out_features=512, bias=False)\n",
       "              (k): Linear(in_features=256, out_features=512, bias=False)\n",
       "              (v): Linear(in_features=256, out_features=512, bias=False)\n",
       "              (o): Linear(in_features=512, out_features=256, bias=False)\n",
       "            )\n",
       "            (layer_norm): T5LayerNorm()\n",
       "            (dropout): Dropout(p=0.1, inplace=False)\n",
       "          )\n",
       "          (1): T5LayerFF(\n",
       "            (DenseReluDense): T5DenseReluDense(\n",
       "              (wi): Linear(in_features=256, out_features=2048, bias=False)\n",
       "              (wo): Linear(in_features=2048, out_features=256, bias=False)\n",
       "              (dropout): Dropout(p=0.1, inplace=False)\n",
       "            )\n",
       "            (layer_norm): T5LayerNorm()\n",
       "            (dropout): Dropout(p=0.1, inplace=False)\n",
       "          )\n",
       "        )\n",
       "      )\n",
       "      (3): T5Block(\n",
       "        (layer): ModuleList(\n",
       "          (0): T5LayerSelfAttention(\n",
       "            (SelfAttention): T5Attention(\n",
       "              (q): Linear(in_features=256, out_features=512, bias=False)\n",
       "              (k): Linear(in_features=256, out_features=512, bias=False)\n",
       "              (v): Linear(in_features=256, out_features=512, bias=False)\n",
       "              (o): Linear(in_features=512, out_features=256, bias=False)\n",
       "            )\n",
       "            (layer_norm): T5LayerNorm()\n",
       "            (dropout): Dropout(p=0.1, inplace=False)\n",
       "          )\n",
       "          (1): T5LayerFF(\n",
       "            (DenseReluDense): T5DenseReluDense(\n",
       "              (wi): Linear(in_features=256, out_features=2048, bias=False)\n",
       "              (wo): Linear(in_features=2048, out_features=256, bias=False)\n",
       "              (dropout): Dropout(p=0.1, inplace=False)\n",
       "            )\n",
       "            (layer_norm): T5LayerNorm()\n",
       "            (dropout): Dropout(p=0.1, inplace=False)\n",
       "          )\n",
       "        )\n",
       "      )\n",
       "    )\n",
       "    (final_layer_norm): T5LayerNorm()\n",
       "    (dropout): Dropout(p=0.1, inplace=False)\n",
       "  )\n",
       "  (decoder): T5Stack(\n",
       "    (embed_tokens): Embedding(100, 256)\n",
       "    (block): ModuleList(\n",
       "      (0): T5Block(\n",
       "        (layer): ModuleList(\n",
       "          (0): T5LayerSelfAttention(\n",
       "            (SelfAttention): T5Attention(\n",
       "              (q): Linear(in_features=256, out_features=512, bias=False)\n",
       "              (k): Linear(in_features=256, out_features=512, bias=False)\n",
       "              (v): Linear(in_features=256, out_features=512, bias=False)\n",
       "              (o): Linear(in_features=512, out_features=256, bias=False)\n",
       "              (relative_attention_bias): Embedding(32, 8)\n",
       "            )\n",
       "            (layer_norm): T5LayerNorm()\n",
       "            (dropout): Dropout(p=0.1, inplace=False)\n",
       "          )\n",
       "          (1): T5LayerCrossAttention(\n",
       "            (EncDecAttention): T5Attention(\n",
       "              (q): Linear(in_features=256, out_features=512, bias=False)\n",
       "              (k): Linear(in_features=256, out_features=512, bias=False)\n",
       "              (v): Linear(in_features=256, out_features=512, bias=False)\n",
       "              (o): Linear(in_features=512, out_features=256, bias=False)\n",
       "            )\n",
       "            (layer_norm): T5LayerNorm()\n",
       "            (dropout): Dropout(p=0.1, inplace=False)\n",
       "          )\n",
       "          (2): T5LayerFF(\n",
       "            (DenseReluDense): T5DenseReluDense(\n",
       "              (wi): Linear(in_features=256, out_features=2048, bias=False)\n",
       "              (wo): Linear(in_features=2048, out_features=256, bias=False)\n",
       "              (dropout): Dropout(p=0.1, inplace=False)\n",
       "            )\n",
       "            (layer_norm): T5LayerNorm()\n",
       "            (dropout): Dropout(p=0.1, inplace=False)\n",
       "          )\n",
       "        )\n",
       "      )\n",
       "      (1): T5Block(\n",
       "        (layer): ModuleList(\n",
       "          (0): T5LayerSelfAttention(\n",
       "            (SelfAttention): T5Attention(\n",
       "              (q): Linear(in_features=256, out_features=512, bias=False)\n",
       "              (k): Linear(in_features=256, out_features=512, bias=False)\n",
       "              (v): Linear(in_features=256, out_features=512, bias=False)\n",
       "              (o): Linear(in_features=512, out_features=256, bias=False)\n",
       "            )\n",
       "            (layer_norm): T5LayerNorm()\n",
       "            (dropout): Dropout(p=0.1, inplace=False)\n",
       "          )\n",
       "          (1): T5LayerCrossAttention(\n",
       "            (EncDecAttention): T5Attention(\n",
       "              (q): Linear(in_features=256, out_features=512, bias=False)\n",
       "              (k): Linear(in_features=256, out_features=512, bias=False)\n",
       "              (v): Linear(in_features=256, out_features=512, bias=False)\n",
       "              (o): Linear(in_features=512, out_features=256, bias=False)\n",
       "            )\n",
       "            (layer_norm): T5LayerNorm()\n",
       "            (dropout): Dropout(p=0.1, inplace=False)\n",
       "          )\n",
       "          (2): T5LayerFF(\n",
       "            (DenseReluDense): T5DenseReluDense(\n",
       "              (wi): Linear(in_features=256, out_features=2048, bias=False)\n",
       "              (wo): Linear(in_features=2048, out_features=256, bias=False)\n",
       "              (dropout): Dropout(p=0.1, inplace=False)\n",
       "            )\n",
       "            (layer_norm): T5LayerNorm()\n",
       "            (dropout): Dropout(p=0.1, inplace=False)\n",
       "          )\n",
       "        )\n",
       "      )\n",
       "      (2): T5Block(\n",
       "        (layer): ModuleList(\n",
       "          (0): T5LayerSelfAttention(\n",
       "            (SelfAttention): T5Attention(\n",
       "              (q): Linear(in_features=256, out_features=512, bias=False)\n",
       "              (k): Linear(in_features=256, out_features=512, bias=False)\n",
       "              (v): Linear(in_features=256, out_features=512, bias=False)\n",
       "              (o): Linear(in_features=512, out_features=256, bias=False)\n",
       "            )\n",
       "            (layer_norm): T5LayerNorm()\n",
       "            (dropout): Dropout(p=0.1, inplace=False)\n",
       "          )\n",
       "          (1): T5LayerCrossAttention(\n",
       "            (EncDecAttention): T5Attention(\n",
       "              (q): Linear(in_features=256, out_features=512, bias=False)\n",
       "              (k): Linear(in_features=256, out_features=512, bias=False)\n",
       "              (v): Linear(in_features=256, out_features=512, bias=False)\n",
       "              (o): Linear(in_features=512, out_features=256, bias=False)\n",
       "            )\n",
       "            (layer_norm): T5LayerNorm()\n",
       "            (dropout): Dropout(p=0.1, inplace=False)\n",
       "          )\n",
       "          (2): T5LayerFF(\n",
       "            (DenseReluDense): T5DenseReluDense(\n",
       "              (wi): Linear(in_features=256, out_features=2048, bias=False)\n",
       "              (wo): Linear(in_features=2048, out_features=256, bias=False)\n",
       "              (dropout): Dropout(p=0.1, inplace=False)\n",
       "            )\n",
       "            (layer_norm): T5LayerNorm()\n",
       "            (dropout): Dropout(p=0.1, inplace=False)\n",
       "          )\n",
       "        )\n",
       "      )\n",
       "      (3): T5Block(\n",
       "        (layer): ModuleList(\n",
       "          (0): T5LayerSelfAttention(\n",
       "            (SelfAttention): T5Attention(\n",
       "              (q): Linear(in_features=256, out_features=512, bias=False)\n",
       "              (k): Linear(in_features=256, out_features=512, bias=False)\n",
       "              (v): Linear(in_features=256, out_features=512, bias=False)\n",
       "              (o): Linear(in_features=512, out_features=256, bias=False)\n",
       "            )\n",
       "            (layer_norm): T5LayerNorm()\n",
       "            (dropout): Dropout(p=0.1, inplace=False)\n",
       "          )\n",
       "          (1): T5LayerCrossAttention(\n",
       "            (EncDecAttention): T5Attention(\n",
       "              (q): Linear(in_features=256, out_features=512, bias=False)\n",
       "              (k): Linear(in_features=256, out_features=512, bias=False)\n",
       "              (v): Linear(in_features=256, out_features=512, bias=False)\n",
       "              (o): Linear(in_features=512, out_features=256, bias=False)\n",
       "            )\n",
       "            (layer_norm): T5LayerNorm()\n",
       "            (dropout): Dropout(p=0.1, inplace=False)\n",
       "          )\n",
       "          (2): T5LayerFF(\n",
       "            (DenseReluDense): T5DenseReluDense(\n",
       "              (wi): Linear(in_features=256, out_features=2048, bias=False)\n",
       "              (wo): Linear(in_features=2048, out_features=256, bias=False)\n",
       "              (dropout): Dropout(p=0.1, inplace=False)\n",
       "            )\n",
       "            (layer_norm): T5LayerNorm()\n",
       "            (dropout): Dropout(p=0.1, inplace=False)\n",
       "          )\n",
       "        )\n",
       "      )\n",
       "    )\n",
       "    (final_layer_norm): T5LayerNorm()\n",
       "    (dropout): Dropout(p=0.1, inplace=False)\n",
       "  )\n",
       "  (lm_head): Sequential()\n",
       ")"
      ]
     },
     "execution_count": 47,
     "metadata": {},
     "output_type": "execute_result"
    }
   ],
   "source": [
    "model"
   ]
  },
  {
   "cell_type": "code",
   "execution_count": 48,
   "id": "402e9808",
   "metadata": {},
   "outputs": [],
   "source": [
    "inputs = tokenizer.encode(\"Classification:COC(=O)c1cccc(C(=O)OC)c1>CN(C)N.Cl.O>COC(=O)c1cccc(C(=O)O)c1\", return_tensors='pt')"
   ]
  },
  {
   "cell_type": "code",
   "execution_count": 49,
   "id": "bd5e3ae1",
   "metadata": {},
   "outputs": [],
   "source": [
    "outputs = model(inputs)"
   ]
  },
  {
   "cell_type": "code",
   "execution_count": 50,
   "id": "3adeb52f",
   "metadata": {},
   "outputs": [
    {
     "data": {
      "text/plain": [
       "torch.Size([1, 256])"
      ]
     },
     "execution_count": 50,
     "metadata": {},
     "output_type": "execute_result"
    }
   ],
   "source": [
    "outputs.logits.shape"
   ]
  },
  {
   "cell_type": "code",
   "execution_count": 4,
   "id": "ac8aee4a",
   "metadata": {},
   "outputs": [
    {
     "name": "stderr",
     "output_type": "stream",
     "text": [
      "Using custom data configuration default-2e9352474f27d6c8\n"
     ]
    },
    {
     "name": "stdout",
     "output_type": "stream",
     "text": [
      "Downloading and preparing dataset csv/default to /home/eyal/.cache/huggingface/datasets/csv/default-2e9352474f27d6c8/0.0.0/6b34fb8fcf56f7c8ba51dc895bfa2bfbe43546f190a60fcf74bb5e8afdcc2317...\n"
     ]
    },
    {
     "data": {
      "application/vnd.jupyter.widget-view+json": {
       "model_id": "38502abcc8594be99117340327849af0",
       "version_major": 2,
       "version_minor": 0
      },
      "text/plain": [
       "Downloading data files:   0%|          | 0/3 [00:00<?, ?it/s]"
      ]
     },
     "metadata": {},
     "output_type": "display_data"
    },
    {
     "data": {
      "application/vnd.jupyter.widget-view+json": {
       "model_id": "39434f64715b4578bf6e476511ad8199",
       "version_major": 2,
       "version_minor": 0
      },
      "text/plain": [
       "Extracting data files:   0%|          | 0/3 [00:00<?, ?it/s]"
      ]
     },
     "metadata": {},
     "output_type": "display_data"
    },
    {
     "data": {
      "application/vnd.jupyter.widget-view+json": {
       "model_id": "",
       "version_major": 2,
       "version_minor": 0
      },
      "text/plain": [
       "0 tables [00:00, ? tables/s]"
      ]
     },
     "metadata": {},
     "output_type": "display_data"
    },
    {
     "data": {
      "application/vnd.jupyter.widget-view+json": {
       "model_id": "",
       "version_major": 2,
       "version_minor": 0
      },
      "text/plain": [
       "0 tables [00:00, ? tables/s]"
      ]
     },
     "metadata": {},
     "output_type": "display_data"
    },
    {
     "data": {
      "application/vnd.jupyter.widget-view+json": {
       "model_id": "",
       "version_major": 2,
       "version_minor": 0
      },
      "text/plain": [
       "0 tables [00:00, ? tables/s]"
      ]
     },
     "metadata": {},
     "output_type": "display_data"
    },
    {
     "name": "stdout",
     "output_type": "stream",
     "text": [
      "Dataset csv downloaded and prepared to /home/eyal/.cache/huggingface/datasets/csv/default-2e9352474f27d6c8/0.0.0/6b34fb8fcf56f7c8ba51dc895bfa2bfbe43546f190a60fcf74bb5e8afdcc2317. Subsequent calls will reuse this data.\n"
     ]
    },
    {
     "data": {
      "application/vnd.jupyter.widget-view+json": {
       "model_id": "92d40a9c85354eeaa315012cf6b6e83e",
       "version_major": 2,
       "version_minor": 0
      },
      "text/plain": [
       "  0%|          | 0/3 [00:00<?, ?it/s]"
      ]
     },
     "metadata": {},
     "output_type": "display_data"
    }
   ],
   "source": [
    "dataset = load_dataset('csv', data_files={'train': f'split/{split_type}/{dataset_name}/train2.csv',\n",
    "                                          'validation': f'split/{split_type}/{dataset_name}/val.csv',\n",
    "                                          'test': f'split/{split_type}/{dataset_name}/test.csv',})"
   ]
  },
  {
   "cell_type": "code",
   "execution_count": 5,
   "id": "5c9b482f",
   "metadata": {
    "scrolled": false
   },
   "outputs": [],
   "source": [
    "dataset = dataset.rename_column('withdrawn_class', 'labels').\\\n",
    "            remove_columns(['Unnamed: 0', 'index', 'length', 'inchikey', 'name', 'groups', 'source']).\\\n",
    "            with_format('torch')"
   ]
  },
  {
   "cell_type": "code",
   "execution_count": 6,
   "id": "2e41fa8f",
   "metadata": {},
   "outputs": [
    {
     "name": "stderr",
     "output_type": "stream",
     "text": [
      "Some weights of the model checkpoint at seyonec/PubChem10M_SMILES_BPE_450k were not used when initializing RobertaForSequenceClassification: ['lm_head.decoder.bias', 'lm_head.dense.bias', 'roberta.pooler.dense.weight', 'lm_head.layer_norm.weight', 'lm_head.bias', 'lm_head.dense.weight', 'roberta.pooler.dense.bias', 'lm_head.decoder.weight', 'lm_head.layer_norm.bias']\n",
      "- This IS expected if you are initializing RobertaForSequenceClassification from the checkpoint of a model trained on another task or with another architecture (e.g. initializing a BertForSequenceClassification model from a BertForPreTraining model).\n",
      "- This IS NOT expected if you are initializing RobertaForSequenceClassification from the checkpoint of a model that you expect to be exactly identical (initializing a BertForSequenceClassification model from a BertForSequenceClassification model).\n",
      "Some weights of RobertaForSequenceClassification were not initialized from the model checkpoint at seyonec/PubChem10M_SMILES_BPE_450k and are newly initialized: ['classifier.out_proj.bias', 'classifier.out_proj.weight', 'classifier.dense.weight', 'classifier.dense.bias']\n",
      "You should probably TRAIN this model on a down-stream task to be able to use it for predictions and inference.\n"
     ]
    }
   ],
   "source": [
    "tokenizer = AutoTokenizer.from_pretrained(\"seyonec/PubChem10M_SMILES_BPE_450k\")\n",
    "model = AutoModelForSequenceClassification.from_pretrained(\"seyonec/PubChem10M_SMILES_BPE_450k\", num_labels=2,\n",
    "                                                           id2label={0: 'Not Withdrawn', 1:'Withdrawn'},\n",
    "                                                           label2id={'Not Withdrawn': 0, 'Withdrawn': 1})"
   ]
  },
  {
   "cell_type": "code",
   "execution_count": 7,
   "id": "015dff05",
   "metadata": {},
   "outputs": [],
   "source": [
    "def tokenize_function(examples):\n",
    "    return tokenizer(examples[\"smiles\"], padding=\"max_length\", truncation=True, max_length=300)"
   ]
  },
  {
   "cell_type": "code",
   "execution_count": 8,
   "id": "ee51903c",
   "metadata": {},
   "outputs": [
    {
     "data": {
      "application/vnd.jupyter.widget-view+json": {
       "model_id": "bf8ff528c4ae480aaaf22cf6a0ddc264",
       "version_major": 2,
       "version_minor": 0
      },
      "text/plain": [
       "  0%|          | 0/2 [00:00<?, ?ba/s]"
      ]
     },
     "metadata": {},
     "output_type": "display_data"
    },
    {
     "data": {
      "application/vnd.jupyter.widget-view+json": {
       "model_id": "2399cd81feec48b888921b48ea6a8e8f",
       "version_major": 2,
       "version_minor": 0
      },
      "text/plain": [
       "  0%|          | 0/1 [00:00<?, ?ba/s]"
      ]
     },
     "metadata": {},
     "output_type": "display_data"
    },
    {
     "data": {
      "application/vnd.jupyter.widget-view+json": {
       "model_id": "11019c14adb44cd2841d299e869a8401",
       "version_major": 2,
       "version_minor": 0
      },
      "text/plain": [
       "  0%|          | 0/4 [00:00<?, ?ba/s]"
      ]
     },
     "metadata": {},
     "output_type": "display_data"
    }
   ],
   "source": [
    "dataset = dataset.map(tokenize_function, batched=True).remove_columns(['smiles'])"
   ]
  },
  {
   "cell_type": "code",
   "execution_count": 9,
   "id": "927c5872",
   "metadata": {},
   "outputs": [],
   "source": [
    "def compute_metrics(eval_pred):\n",
    "    logits, labels = eval_pred\n",
    "    predictions = np.argmax(logits, axis=-1)\n",
    "    accuracy_score = accuracy.compute(predictions=predictions, references=labels)\n",
    "    auc_score = auc.compute(prediction_scores=logits[:, 1], references=labels)\n",
    "    f1_score = f1.compute(predictions=predictions, references=labels)\n",
    "    aupr = average_precision_score(y_score=logits[:, 1], y_true=labels)\n",
    "    precision_score = precison.compute(predictions=predictions, references=labels)\n",
    "    recall_score = recall.compute(predictions=predictions, references=labels)\n",
    "    return {**f1_score , **{'PR-AUC': aupr}, **accuracy_score, **auc_score, **precision_score, **recall_score}"
   ]
  },
  {
   "cell_type": "code",
   "execution_count": 11,
   "id": "12cf250d",
   "metadata": {},
   "outputs": [],
   "source": [
    "training_args = TrainingArguments(\n",
    "    output_dir=f\"./results/{split_type}/{dataset_name}\",\n",
    "    learning_rate=2e-5,\n",
    "    per_device_train_batch_size=4,\n",
    "    per_device_eval_batch_size=4,\n",
    "    gradient_accumulation_steps=4,\n",
    "    num_train_epochs=3,\n",
    "    weight_decay=0.01,\n",
    "    evaluation_strategy=IntervalStrategy.STEPS,\n",
    "    save_strategy=IntervalStrategy.STEPS,\n",
    "    report_to='wandb',\n",
    "    run_name=f'ChemBERTa {split_type} {dataset_name}',\n",
    "    logging_steps=50,\n",
    "    save_steps=50\n",
    "    \n",
    "    \n",
    ")"
   ]
  },
  {
   "cell_type": "code",
   "execution_count": 12,
   "id": "ccfeaf13",
   "metadata": {},
   "outputs": [],
   "source": [
    "trainer = Trainer(\n",
    "    model=model,\n",
    "    args=training_args,\n",
    "    train_dataset=dataset[\"train\"],\n",
    "    eval_dataset={'Validation': dataset[\"validation\"], 'Test': dataset[\"test\"]},\n",
    "    tokenizer=tokenizer,\n",
    "    compute_metrics=compute_metrics\n",
    ")"
   ]
  },
  {
   "cell_type": "code",
   "execution_count": 13,
   "id": "2c4145d7",
   "metadata": {
    "scrolled": false
   },
   "outputs": [
    {
     "name": "stderr",
     "output_type": "stream",
     "text": [
      "/home/eyal/.local/lib/python3.10/site-packages/transformers/optimization.py:306: FutureWarning: This implementation of AdamW is deprecated and will be removed in a future version. Use the PyTorch implementation torch.optim.AdamW instead, or set `no_deprecation_warning=True` to disable this warning\n",
      "  warnings.warn(\n",
      "***** Running training *****\n",
      "  Num examples = 1883\n",
      "  Num Epochs = 3\n",
      "  Instantaneous batch size per device = 4\n",
      "  Total train batch size (w. parallel, distributed & accumulation) = 16\n",
      "  Gradient Accumulation steps = 4\n",
      "  Total optimization steps = 351\n",
      "  Number of trainable parameters = 83450882\n",
      "Automatic Weights & Biases logging enabled, to disable set os.environ[\"WANDB_DISABLED\"] = \"true\"\n",
      "\u001b[34m\u001b[1mwandb\u001b[0m: Currently logged in as: \u001b[33meyalmazuz\u001b[0m. Use \u001b[1m`wandb login --relogin`\u001b[0m to force relogin\n",
      "wandb: ERROR Failed to sample metric: Not Supported\n"
     ]
    },
    {
     "data": {
      "text/html": [
       "Tracking run with wandb version 0.13.5"
      ],
      "text/plain": [
       "<IPython.core.display.HTML object>"
      ]
     },
     "metadata": {},
     "output_type": "display_data"
    },
    {
     "data": {
      "text/html": [
       "Run data is saved locally in <code>/home/eyal/Desktop/University/Research/DeepWithdrawn/wandb/run-20221203_171005-h741rdmf</code>"
      ],
      "text/plain": [
       "<IPython.core.display.HTML object>"
      ]
     },
     "metadata": {},
     "output_type": "display_data"
    },
    {
     "data": {
      "text/html": [
       "Syncing run <strong><a href=\"https://wandb.ai/eyalmazuz/huggingface/runs/h741rdmf\" target=\"_blank\">ChemBERTa db_agree_no_dups NCATS</a></strong> to <a href=\"https://wandb.ai/eyalmazuz/huggingface\" target=\"_blank\">Weights & Biases</a> (<a href=\"https://wandb.me/run\" target=\"_blank\">docs</a>)<br/>"
      ],
      "text/plain": [
       "<IPython.core.display.HTML object>"
      ]
     },
     "metadata": {},
     "output_type": "display_data"
    },
    {
     "name": "stderr",
     "output_type": "stream",
     "text": [
      "You're using a RobertaTokenizerFast tokenizer. Please note that with a fast tokenizer, using the `__call__` method is faster than using a method to encode the text followed by a call to the `pad` method to get a padded encoding.\n"
     ]
    },
    {
     "data": {
      "text/html": [
       "\n",
       "    <div>\n",
       "      \n",
       "      <progress value='351' max='351' style='width:300px; height:20px; vertical-align: middle;'></progress>\n",
       "      [351/351 19:17, Epoch 2/3]\n",
       "    </div>\n",
       "    <table border=\"1\" class=\"dataframe\">\n",
       "  <thead>\n",
       " <tr style=\"text-align: left;\">\n",
       "      <th>Step</th>\n",
       "      <th>Training Loss</th>\n",
       "      <th>Validation Loss</th>\n",
       "      <th>Validation F1</th>\n",
       "      <th>Validation Pr-auc</th>\n",
       "      <th>Validation Accuracy</th>\n",
       "      <th>Validation Roc Auc</th>\n",
       "      <th>Validation Precision</th>\n",
       "      <th>Validation Recall</th>\n",
       "      <th>Validation Runtime</th>\n",
       "      <th>Validation Samples Per Second</th>\n",
       "      <th>Validation Steps Per Second</th>\n",
       "      <th>Test F1</th>\n",
       "      <th>Test Pr-auc</th>\n",
       "      <th>Test Accuracy</th>\n",
       "      <th>Test Roc Auc</th>\n",
       "      <th>Test Precision</th>\n",
       "      <th>Test Recall</th>\n",
       "    </tr>\n",
       "  </thead>\n",
       "  <tbody>\n",
       "    <tr>\n",
       "      <td>50</td>\n",
       "      <td>0.498700</td>\n",
       "      <td>0.549636</td>\n",
       "      <td>0.438710</td>\n",
       "      <td>0.715529</td>\n",
       "      <td>0.815287</td>\n",
       "      <td>0.832553</td>\n",
       "      <td>0.944444</td>\n",
       "      <td>0.285714</td>\n",
       "      <td>12.327300</td>\n",
       "      <td>38.208000</td>\n",
       "      <td>9.572000</td>\n",
       "      <td>0.238284</td>\n",
       "      <td>0.318080</td>\n",
       "      <td>0.733685</td>\n",
       "      <td>0.651014</td>\n",
       "      <td>0.348028</td>\n",
       "      <td>0.181159</td>\n",
       "    </tr>\n",
       "    <tr>\n",
       "      <td>100</td>\n",
       "      <td>0.361800</td>\n",
       "      <td>0.657026</td>\n",
       "      <td>0.635897</td>\n",
       "      <td>0.768095</td>\n",
       "      <td>0.849257</td>\n",
       "      <td>0.849575</td>\n",
       "      <td>0.815789</td>\n",
       "      <td>0.521008</td>\n",
       "      <td>12.406300</td>\n",
       "      <td>37.965000</td>\n",
       "      <td>9.511000</td>\n",
       "      <td>0.367139</td>\n",
       "      <td>0.366768</td>\n",
       "      <td>0.689808</td>\n",
       "      <td>0.656516</td>\n",
       "      <td>0.345784</td>\n",
       "      <td>0.391304</td>\n",
       "    </tr>\n",
       "    <tr>\n",
       "      <td>150</td>\n",
       "      <td>0.325700</td>\n",
       "      <td>0.745371</td>\n",
       "      <td>0.630000</td>\n",
       "      <td>0.776755</td>\n",
       "      <td>0.842887</td>\n",
       "      <td>0.865594</td>\n",
       "      <td>0.777778</td>\n",
       "      <td>0.529412</td>\n",
       "      <td>12.423300</td>\n",
       "      <td>37.912000</td>\n",
       "      <td>9.498000</td>\n",
       "      <td>0.370522</td>\n",
       "      <td>0.379519</td>\n",
       "      <td>0.658428</td>\n",
       "      <td>0.659785</td>\n",
       "      <td>0.321492</td>\n",
       "      <td>0.437198</td>\n",
       "    </tr>\n",
       "    <tr>\n",
       "      <td>200</td>\n",
       "      <td>0.267500</td>\n",
       "      <td>0.753218</td>\n",
       "      <td>0.690722</td>\n",
       "      <td>0.803840</td>\n",
       "      <td>0.872611</td>\n",
       "      <td>0.887462</td>\n",
       "      <td>0.893333</td>\n",
       "      <td>0.563025</td>\n",
       "      <td>12.440400</td>\n",
       "      <td>37.861000</td>\n",
       "      <td>9.485000</td>\n",
       "      <td>0.382911</td>\n",
       "      <td>0.384871</td>\n",
       "      <td>0.675090</td>\n",
       "      <td>0.673062</td>\n",
       "      <td>0.339888</td>\n",
       "      <td>0.438406</td>\n",
       "    </tr>\n",
       "    <tr>\n",
       "      <td>250</td>\n",
       "      <td>0.243700</td>\n",
       "      <td>0.860846</td>\n",
       "      <td>0.704225</td>\n",
       "      <td>0.808082</td>\n",
       "      <td>0.866242</td>\n",
       "      <td>0.886769</td>\n",
       "      <td>0.797872</td>\n",
       "      <td>0.630252</td>\n",
       "      <td>12.428900</td>\n",
       "      <td>37.895000</td>\n",
       "      <td>9.494000</td>\n",
       "      <td>0.411846</td>\n",
       "      <td>0.386955</td>\n",
       "      <td>0.647042</td>\n",
       "      <td>0.674646</td>\n",
       "      <td>0.333833</td>\n",
       "      <td>0.537440</td>\n",
       "    </tr>\n",
       "    <tr>\n",
       "      <td>300</td>\n",
       "      <td>0.238600</td>\n",
       "      <td>0.910115</td>\n",
       "      <td>0.697674</td>\n",
       "      <td>0.805883</td>\n",
       "      <td>0.861996</td>\n",
       "      <td>0.886077</td>\n",
       "      <td>0.781250</td>\n",
       "      <td>0.630252</td>\n",
       "      <td>12.435000</td>\n",
       "      <td>37.877000</td>\n",
       "      <td>9.489000</td>\n",
       "      <td>0.416515</td>\n",
       "      <td>0.385281</td>\n",
       "      <td>0.642877</td>\n",
       "      <td>0.673683</td>\n",
       "      <td>0.333576</td>\n",
       "      <td>0.554348</td>\n",
       "    </tr>\n",
       "    <tr>\n",
       "      <td>350</td>\n",
       "      <td>0.211600</td>\n",
       "      <td>0.866140</td>\n",
       "      <td>0.700000</td>\n",
       "      <td>0.811317</td>\n",
       "      <td>0.872611</td>\n",
       "      <td>0.890518</td>\n",
       "      <td>0.864198</td>\n",
       "      <td>0.588235</td>\n",
       "      <td>12.433400</td>\n",
       "      <td>37.882000</td>\n",
       "      <td>9.491000</td>\n",
       "      <td>0.410697</td>\n",
       "      <td>0.384042</td>\n",
       "      <td>0.657317</td>\n",
       "      <td>0.673305</td>\n",
       "      <td>0.339652</td>\n",
       "      <td>0.519324</td>\n",
       "    </tr>\n",
       "  </tbody>\n",
       "</table><p>"
      ],
      "text/plain": [
       "<IPython.core.display.HTML object>"
      ]
     },
     "metadata": {},
     "output_type": "display_data"
    },
    {
     "name": "stderr",
     "output_type": "stream",
     "text": [
      "***** Running Evaluation *****\n",
      "  Num examples = 471\n",
      "  Batch size = 4\n",
      "***** Running Evaluation *****\n",
      "  Num examples = 3601\n",
      "  Batch size = 4\n",
      "Saving model checkpoint to ./results/db_agree_no_dups/NCATS/checkpoint-50\n",
      "Configuration saved in ./results/db_agree_no_dups/NCATS/checkpoint-50/config.json\n",
      "Model weights saved in ./results/db_agree_no_dups/NCATS/checkpoint-50/pytorch_model.bin\n",
      "tokenizer config file saved in ./results/db_agree_no_dups/NCATS/checkpoint-50/tokenizer_config.json\n",
      "Special tokens file saved in ./results/db_agree_no_dups/NCATS/checkpoint-50/special_tokens_map.json\n",
      "***** Running Evaluation *****\n",
      "  Num examples = 471\n",
      "  Batch size = 4\n",
      "***** Running Evaluation *****\n",
      "  Num examples = 3601\n",
      "  Batch size = 4\n",
      "Saving model checkpoint to ./results/db_agree_no_dups/NCATS/checkpoint-100\n",
      "Configuration saved in ./results/db_agree_no_dups/NCATS/checkpoint-100/config.json\n",
      "Model weights saved in ./results/db_agree_no_dups/NCATS/checkpoint-100/pytorch_model.bin\n",
      "tokenizer config file saved in ./results/db_agree_no_dups/NCATS/checkpoint-100/tokenizer_config.json\n",
      "Special tokens file saved in ./results/db_agree_no_dups/NCATS/checkpoint-100/special_tokens_map.json\n",
      "***** Running Evaluation *****\n",
      "  Num examples = 471\n",
      "  Batch size = 4\n",
      "***** Running Evaluation *****\n",
      "  Num examples = 3601\n",
      "  Batch size = 4\n",
      "Saving model checkpoint to ./results/db_agree_no_dups/NCATS/checkpoint-150\n",
      "Configuration saved in ./results/db_agree_no_dups/NCATS/checkpoint-150/config.json\n",
      "Model weights saved in ./results/db_agree_no_dups/NCATS/checkpoint-150/pytorch_model.bin\n",
      "tokenizer config file saved in ./results/db_agree_no_dups/NCATS/checkpoint-150/tokenizer_config.json\n",
      "Special tokens file saved in ./results/db_agree_no_dups/NCATS/checkpoint-150/special_tokens_map.json\n",
      "***** Running Evaluation *****\n",
      "  Num examples = 471\n",
      "  Batch size = 4\n",
      "***** Running Evaluation *****\n",
      "  Num examples = 3601\n",
      "  Batch size = 4\n",
      "Saving model checkpoint to ./results/db_agree_no_dups/NCATS/checkpoint-200\n",
      "Configuration saved in ./results/db_agree_no_dups/NCATS/checkpoint-200/config.json\n",
      "Model weights saved in ./results/db_agree_no_dups/NCATS/checkpoint-200/pytorch_model.bin\n",
      "tokenizer config file saved in ./results/db_agree_no_dups/NCATS/checkpoint-200/tokenizer_config.json\n",
      "Special tokens file saved in ./results/db_agree_no_dups/NCATS/checkpoint-200/special_tokens_map.json\n",
      "***** Running Evaluation *****\n",
      "  Num examples = 471\n",
      "  Batch size = 4\n",
      "***** Running Evaluation *****\n",
      "  Num examples = 3601\n",
      "  Batch size = 4\n",
      "Saving model checkpoint to ./results/db_agree_no_dups/NCATS/checkpoint-250\n",
      "Configuration saved in ./results/db_agree_no_dups/NCATS/checkpoint-250/config.json\n",
      "Model weights saved in ./results/db_agree_no_dups/NCATS/checkpoint-250/pytorch_model.bin\n",
      "tokenizer config file saved in ./results/db_agree_no_dups/NCATS/checkpoint-250/tokenizer_config.json\n",
      "Special tokens file saved in ./results/db_agree_no_dups/NCATS/checkpoint-250/special_tokens_map.json\n",
      "***** Running Evaluation *****\n",
      "  Num examples = 471\n",
      "  Batch size = 4\n",
      "***** Running Evaluation *****\n",
      "  Num examples = 3601\n",
      "  Batch size = 4\n",
      "Saving model checkpoint to ./results/db_agree_no_dups/NCATS/checkpoint-300\n",
      "Configuration saved in ./results/db_agree_no_dups/NCATS/checkpoint-300/config.json\n",
      "Model weights saved in ./results/db_agree_no_dups/NCATS/checkpoint-300/pytorch_model.bin\n",
      "tokenizer config file saved in ./results/db_agree_no_dups/NCATS/checkpoint-300/tokenizer_config.json\n",
      "Special tokens file saved in ./results/db_agree_no_dups/NCATS/checkpoint-300/special_tokens_map.json\n",
      "***** Running Evaluation *****\n",
      "  Num examples = 471\n",
      "  Batch size = 4\n",
      "***** Running Evaluation *****\n",
      "  Num examples = 3601\n",
      "  Batch size = 4\n",
      "Saving model checkpoint to ./results/db_agree_no_dups/NCATS/checkpoint-350\n",
      "Configuration saved in ./results/db_agree_no_dups/NCATS/checkpoint-350/config.json\n",
      "Model weights saved in ./results/db_agree_no_dups/NCATS/checkpoint-350/pytorch_model.bin\n",
      "tokenizer config file saved in ./results/db_agree_no_dups/NCATS/checkpoint-350/tokenizer_config.json\n",
      "Special tokens file saved in ./results/db_agree_no_dups/NCATS/checkpoint-350/special_tokens_map.json\n",
      "\n",
      "\n",
      "Training completed. Do not forget to share your model on huggingface.co/models =)\n",
      "\n",
      "\n"
     ]
    },
    {
     "data": {
      "text/plain": [
       "TrainOutput(global_step=351, training_loss=0.3067149913888372, metrics={'train_runtime': 1161.4185, 'train_samples_per_second': 4.864, 'train_steps_per_second': 0.302, 'total_flos': 437608121263200.0, 'train_loss': 0.3067149913888372, 'epoch': 2.99})"
      ]
     },
     "execution_count": 13,
     "metadata": {},
     "output_type": "execute_result"
    }
   ],
   "source": [
    "trainer.train()"
   ]
  },
  {
   "cell_type": "code",
   "execution_count": null,
   "id": "9ddeb0ff",
   "metadata": {},
   "outputs": [],
   "source": []
  }
 ],
 "metadata": {
  "kernelspec": {
   "display_name": "Python 3 (ipykernel)",
   "language": "python",
   "name": "python3"
  },
  "language_info": {
   "codemirror_mode": {
    "name": "ipython",
    "version": 3
   },
   "file_extension": ".py",
   "mimetype": "text/x-python",
   "name": "python",
   "nbconvert_exporter": "python",
   "pygments_lexer": "ipython3",
   "version": "3.10.8"
  }
 },
 "nbformat": 4,
 "nbformat_minor": 5
}
